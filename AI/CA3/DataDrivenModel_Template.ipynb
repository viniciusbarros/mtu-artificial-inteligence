{
 "cells": [
  {
   "cell_type": "markdown",
   "source": [
    "# CA3 - Data Driven Model\n",
    "- Student Name: **Vinicius Moura Barros**\n",
    "- Student Number: **T00244396**\n",
    "## **Allocation of marks**\n",
    "\n",
    "Stages 1,2,3   Total 30%\n",
    "\n",
    "Ideally your dataset will not need a lot of work. Marks going for the choosing,  training, evaluation and refining of model primarily\n",
    "\n",
    "\n",
    "---\n",
    "\n",
    "\n",
    "\n",
    "Stage 4,5       Total 60%\n",
    "\n",
    "Choose your model\n",
    "\n",
    "https://scikit-learn.org/stable/tutorial/machine_learning_map/index.html\n",
    "\n",
    "\n",
    "Train and evaluate your model. Refine the model or choose another estimator or approach?\n",
    "\n",
    "Do not overwrite cells and add commentry between iterations.\n",
    "\n",
    "\n",
    "\n",
    "---\n",
    "\n",
    "\n",
    "\n",
    "\n",
    "Stage 6         Total 10%"
   ],
   "metadata": {
    "id": "sgQZcH7afs47"
   }
  },
  {
   "cell_type": "markdown",
   "source": [
    "## **Stage 0**\n",
    "### Preparation of Environment\n",
    "This section outlines what needs to be installed on the Python environment before this notebook can be executed.\n",
    "Python3 is being used for this project. The following packages need to be installed (e.g.: via `pip install`):\n",
    "- scikit-learn\n",
    "- pandas\n"
   ],
   "metadata": {
    "collapsed": false
   }
  },
  {
   "cell_type": "markdown",
   "source": [
    " ### Importing the libraries"
   ],
   "metadata": {
    "collapsed": false
   }
  },
  {
   "cell_type": "code",
   "execution_count": 80,
   "outputs": [],
   "source": [
    "import pandas as pd\n",
    "import random\n",
    "from collections import defaultdict\n",
    "from sklearn.model_selection import train_test_split\n",
    "from sklearn.ensemble import RandomForestClassifier\n",
    "from sklearn.tree import DecisionTreeClassifier\n",
    "from sklearn.linear_model import LogisticRegression, SGDClassifier\n",
    "from sklearn.neighbors import KNeighborsClassifier\n",
    "from sklearn.svm import SVC, LinearSVC\n",
    "from sklearn.metrics import accuracy_score\n",
    "from sklearn.preprocessing import LabelEncoder\n",
    "from matplotlib import pyplot as plt\n",
    "from sklearn import tree"
   ],
   "metadata": {
    "collapsed": false
   }
  },
  {
   "cell_type": "markdown",
   "source": [
    "# **Stage 1**\n",
    "\n",
    "### Background\n",
    "Overwatch is a team-based multiplayer first-person shooter developed and published by Blizzard Entertainment. Overwatch League is the official professional and competitive Overwatch league, where teams compete against each other through the year.\n",
    "\n",
    "A regular official match is composed of a multiple games (or maps), whereas the first team to have 3 games (maps) won, wins the match. Each game is played in a different map, and each map has its own characteristics, which can be advantageous or disadvantageous to a team, depending on their playstyle.\n",
    "\n",
    "The team who loses a map has the chance of choosing what next map they want to play. And this is exactly the type of question that this notebook will try to answer: given a team and this team's adversary, what map should they choose next, in order to increase their chances of winning the match?\n",
    "\n",
    "### Describe Data\n",
    "\n",
    "The dataset chosen for this notebook was a list of previous matches from Overwatch League.\n",
    "All Overwatch League datasets can be found in [Overwatch League official statslab](https://overwatchleague.com/en-us/statslab), and the one used for this notebook can be downloaded exactly from [this URL](https://assets.blz-contentstack.com/v3/assets/blt321317473c90505c/blta8c8b99af29af2be/63f51f804f98c853eaf0983b/match_map_stats.csv.zip).\n",
    "\n",
    "The dataset contains almost 14.000 rows with data about official matches that happened from 11/2018 until 05/2022.\n"
   ],
   "metadata": {
    "collapsed": false
   }
  },
  {
   "cell_type": "markdown",
   "source": [
    "### Loading Dataset\n",
    "As the dataset may not be available during the execution of this notebook, a copy can be found in ./data/overwatch_match_map_stats.csv. By loading it from a local disk, it will also make the loading process faster."
   ],
   "metadata": {
    "collapsed": false
   },
   "execution_count": 1
  },
  {
   "cell_type": "code",
   "execution_count": 81,
   "outputs": [
    {
     "name": "stdout",
     "output_type": "stream",
     "text": [
      "<class 'pandas.core.frame.DataFrame'>\n",
      "RangeIndex: 13901 entries, 0 to 13900\n",
      "Data columns (total 25 columns):\n",
      " #   Column                        Non-Null Count  Dtype  \n",
      "---  ------                        --------------  -----  \n",
      " 0   round_start_time              13901 non-null  object \n",
      " 1   round_end_time                13901 non-null  object \n",
      " 2   stage                         13901 non-null  object \n",
      " 3   match_id                      13901 non-null  int64  \n",
      " 4   game_number                   13901 non-null  int64  \n",
      " 5   match_winner                  13901 non-null  object \n",
      " 6   map_winner                    13901 non-null  object \n",
      " 7   map_loser                     13901 non-null  object \n",
      " 8   map_name                      13901 non-null  object \n",
      " 9   map_round                     13901 non-null  int64  \n",
      " 10  winning_team_final_map_score  13901 non-null  int64  \n",
      " 11  losing_team_final_map_score   13901 non-null  int64  \n",
      " 12  control_round_name            4270 non-null   object \n",
      " 13  Attacker                      13901 non-null  object \n",
      " 14  Defender                      13901 non-null  object \n",
      " 15  team_one_name                 13901 non-null  object \n",
      " 16  team_two_name                 13901 non-null  object \n",
      " 17  attacker_payload_distance     13901 non-null  float64\n",
      " 18  defender_payload_distance     13901 non-null  float64\n",
      " 19  attacker_time_banked          13901 non-null  float64\n",
      " 20  defender_time_banked          13901 non-null  float64\n",
      " 21  attacker_control_perecent     4269 non-null   float64\n",
      " 22  defender_control_perecent     4269 non-null   float64\n",
      " 23  attacker_round_end_score      13901 non-null  int64  \n",
      " 24  defender_round_end_score      13901 non-null  int64  \n",
      "dtypes: float64(6), int64(7), object(12)\n",
      "memory usage: 2.7+ MB\n"
     ]
    }
   ],
   "source": [
    "DATASET = 'data/overwatch_match_map_stats.csv'\n",
    "df = pd.read_csv(DATASET)\n",
    "df.info()"
   ],
   "metadata": {
    "collapsed": false
   }
  },
  {
   "cell_type": "code",
   "execution_count": 82,
   "outputs": [
    {
     "data": {
      "text/plain": "  round_start_time  round_end_time          stage  match_id  game_number  \\\n0   01/11/18 00:12  01/11/18 00:20  2018: Stage 1     10223            1   \n1   01/11/18 00:22  01/11/18 00:27  2018: Stage 1     10223            1   \n2   01/11/18 00:34  01/11/18 00:38  2018: Stage 1     10223            2   \n3   01/11/18 00:40  01/11/18 00:44  2018: Stage 1     10223            2   \n4   01/11/18 00:46  01/11/18 00:49  2018: Stage 1     10223            2   \n\n          match_winner           map_winner            map_loser  \\\n0  Los Angeles Valiant  Los Angeles Valiant  San Francisco Shock   \n1  Los Angeles Valiant  Los Angeles Valiant  San Francisco Shock   \n2  Los Angeles Valiant  Los Angeles Valiant  San Francisco Shock   \n3  Los Angeles Valiant  Los Angeles Valiant  San Francisco Shock   \n4  Los Angeles Valiant  Los Angeles Valiant  San Francisco Shock   \n\n           map_name  map_round  ...        team_one_name        team_two_name  \\\n0            Dorado          1  ...  Los Angeles Valiant  San Francisco Shock   \n1            Dorado          2  ...  Los Angeles Valiant  San Francisco Shock   \n2  Temple of Anubis          1  ...  Los Angeles Valiant  San Francisco Shock   \n3  Temple of Anubis          2  ...  Los Angeles Valiant  San Francisco Shock   \n4  Temple of Anubis          3  ...  Los Angeles Valiant  San Francisco Shock   \n\n  attacker_payload_distance defender_payload_distance attacker_time_banked  \\\n0                  75.61505                   0.00000             0.000000   \n1                  75.64960                  75.61505           125.750570   \n2                   0.00000                   0.00000           250.492000   \n3                   0.00000                   0.00000           225.789030   \n4                   0.00000                   0.00000            36.396057   \n\n  defender_time_banked attacker_control_perecent  defender_control_perecent  \\\n0              240.000                       NaN                        NaN   \n1                0.000                       NaN                        NaN   \n2              240.000                       NaN                        NaN   \n3              250.492                       NaN                        NaN   \n4              250.492                       NaN                        NaN   \n\n   attacker_round_end_score  defender_round_end_score  \n0                         2                         0  \n1                         3                         2  \n2                         2                         0  \n3                         2                         2  \n4                         4                         2  \n\n[5 rows x 25 columns]",
      "text/html": "<div>\n<style scoped>\n    .dataframe tbody tr th:only-of-type {\n        vertical-align: middle;\n    }\n\n    .dataframe tbody tr th {\n        vertical-align: top;\n    }\n\n    .dataframe thead th {\n        text-align: right;\n    }\n</style>\n<table border=\"1\" class=\"dataframe\">\n  <thead>\n    <tr style=\"text-align: right;\">\n      <th></th>\n      <th>round_start_time</th>\n      <th>round_end_time</th>\n      <th>stage</th>\n      <th>match_id</th>\n      <th>game_number</th>\n      <th>match_winner</th>\n      <th>map_winner</th>\n      <th>map_loser</th>\n      <th>map_name</th>\n      <th>map_round</th>\n      <th>...</th>\n      <th>team_one_name</th>\n      <th>team_two_name</th>\n      <th>attacker_payload_distance</th>\n      <th>defender_payload_distance</th>\n      <th>attacker_time_banked</th>\n      <th>defender_time_banked</th>\n      <th>attacker_control_perecent</th>\n      <th>defender_control_perecent</th>\n      <th>attacker_round_end_score</th>\n      <th>defender_round_end_score</th>\n    </tr>\n  </thead>\n  <tbody>\n    <tr>\n      <th>0</th>\n      <td>01/11/18 00:12</td>\n      <td>01/11/18 00:20</td>\n      <td>2018: Stage 1</td>\n      <td>10223</td>\n      <td>1</td>\n      <td>Los Angeles Valiant</td>\n      <td>Los Angeles Valiant</td>\n      <td>San Francisco Shock</td>\n      <td>Dorado</td>\n      <td>1</td>\n      <td>...</td>\n      <td>Los Angeles Valiant</td>\n      <td>San Francisco Shock</td>\n      <td>75.61505</td>\n      <td>0.00000</td>\n      <td>0.000000</td>\n      <td>240.000</td>\n      <td>NaN</td>\n      <td>NaN</td>\n      <td>2</td>\n      <td>0</td>\n    </tr>\n    <tr>\n      <th>1</th>\n      <td>01/11/18 00:22</td>\n      <td>01/11/18 00:27</td>\n      <td>2018: Stage 1</td>\n      <td>10223</td>\n      <td>1</td>\n      <td>Los Angeles Valiant</td>\n      <td>Los Angeles Valiant</td>\n      <td>San Francisco Shock</td>\n      <td>Dorado</td>\n      <td>2</td>\n      <td>...</td>\n      <td>Los Angeles Valiant</td>\n      <td>San Francisco Shock</td>\n      <td>75.64960</td>\n      <td>75.61505</td>\n      <td>125.750570</td>\n      <td>0.000</td>\n      <td>NaN</td>\n      <td>NaN</td>\n      <td>3</td>\n      <td>2</td>\n    </tr>\n    <tr>\n      <th>2</th>\n      <td>01/11/18 00:34</td>\n      <td>01/11/18 00:38</td>\n      <td>2018: Stage 1</td>\n      <td>10223</td>\n      <td>2</td>\n      <td>Los Angeles Valiant</td>\n      <td>Los Angeles Valiant</td>\n      <td>San Francisco Shock</td>\n      <td>Temple of Anubis</td>\n      <td>1</td>\n      <td>...</td>\n      <td>Los Angeles Valiant</td>\n      <td>San Francisco Shock</td>\n      <td>0.00000</td>\n      <td>0.00000</td>\n      <td>250.492000</td>\n      <td>240.000</td>\n      <td>NaN</td>\n      <td>NaN</td>\n      <td>2</td>\n      <td>0</td>\n    </tr>\n    <tr>\n      <th>3</th>\n      <td>01/11/18 00:40</td>\n      <td>01/11/18 00:44</td>\n      <td>2018: Stage 1</td>\n      <td>10223</td>\n      <td>2</td>\n      <td>Los Angeles Valiant</td>\n      <td>Los Angeles Valiant</td>\n      <td>San Francisco Shock</td>\n      <td>Temple of Anubis</td>\n      <td>2</td>\n      <td>...</td>\n      <td>Los Angeles Valiant</td>\n      <td>San Francisco Shock</td>\n      <td>0.00000</td>\n      <td>0.00000</td>\n      <td>225.789030</td>\n      <td>250.492</td>\n      <td>NaN</td>\n      <td>NaN</td>\n      <td>2</td>\n      <td>2</td>\n    </tr>\n    <tr>\n      <th>4</th>\n      <td>01/11/18 00:46</td>\n      <td>01/11/18 00:49</td>\n      <td>2018: Stage 1</td>\n      <td>10223</td>\n      <td>2</td>\n      <td>Los Angeles Valiant</td>\n      <td>Los Angeles Valiant</td>\n      <td>San Francisco Shock</td>\n      <td>Temple of Anubis</td>\n      <td>3</td>\n      <td>...</td>\n      <td>Los Angeles Valiant</td>\n      <td>San Francisco Shock</td>\n      <td>0.00000</td>\n      <td>0.00000</td>\n      <td>36.396057</td>\n      <td>250.492</td>\n      <td>NaN</td>\n      <td>NaN</td>\n      <td>4</td>\n      <td>2</td>\n    </tr>\n  </tbody>\n</table>\n<p>5 rows × 25 columns</p>\n</div>"
     },
     "execution_count": 82,
     "metadata": {},
     "output_type": "execute_result"
    }
   ],
   "source": [
    "df.head()"
   ],
   "metadata": {
    "collapsed": false
   }
  },
  {
   "cell_type": "markdown",
   "source": [
    "# **Stage 2**\n",
    "\n",
    "### Justification for the property that you would like the model to predict.\n",
    "\n",
    "As described in the Background section, during a game, the team that lost a match have the chance of choosing the next map to be played. This is an important decision as by analyzing historical data, the team might take advantage of existing data about previous match to maximize their chances of winning the next match (and eventually the game).\n",
    "\n",
    "And this is exactly the type of question that this notebook will try to answer: given a team and this team’s adversary, what map should they choose next, in order to increase their chances of winning the match?\n",
    "\n",
    "Based on team_one_name, team_two_name, map_name and map_winner, we will try to predict what map should the team choose next.\n",
    "\n"
   ],
   "metadata": {
    "id": "ZYY0zY7l60al"
   }
  },
  {
   "cell_type": "markdown",
   "source": [
    "# **Stage 3**\n",
    "\n",
    "### Cleaning the data, linking datasets etc..\n",
    "\n"
   ],
   "metadata": {
    "id": "OeanY09K69Le"
   }
  },
  {
   "cell_type": "markdown",
   "source": [
    "As the main objective is to predict what map to chose, we don't need all the data present in the dataset, so we will filter it to have only the data necessary to train the model.\n"
   ],
   "metadata": {
    "collapsed": false
   }
  },
  {
   "cell_type": "code",
   "execution_count": 83,
   "outputs": [],
   "source": [
    "df = df[['team_one_name', 'team_two_name', 'map_name', 'map_winner', 'map_loser', 'winning_team_final_map_score',\n",
    "         'losing_team_final_map_score']]"
   ],
   "metadata": {
    "collapsed": false
   }
  },
  {
   "cell_type": "code",
   "execution_count": 84,
   "outputs": [
    {
     "data": {
      "text/plain": "         team_one_name        team_two_name          map_name  \\\n0  Los Angeles Valiant  San Francisco Shock            Dorado   \n1  Los Angeles Valiant  San Francisco Shock            Dorado   \n2  Los Angeles Valiant  San Francisco Shock  Temple of Anubis   \n3  Los Angeles Valiant  San Francisco Shock  Temple of Anubis   \n4  Los Angeles Valiant  San Francisco Shock  Temple of Anubis   \n\n            map_winner            map_loser  winning_team_final_map_score  \\\n0  Los Angeles Valiant  San Francisco Shock                             3   \n1  Los Angeles Valiant  San Francisco Shock                             3   \n2  Los Angeles Valiant  San Francisco Shock                             4   \n3  Los Angeles Valiant  San Francisco Shock                             4   \n4  Los Angeles Valiant  San Francisco Shock                             4   \n\n   losing_team_final_map_score  \n0                            3  \n1                            3  \n2                            4  \n3                            4  \n4                            4  ",
      "text/html": "<div>\n<style scoped>\n    .dataframe tbody tr th:only-of-type {\n        vertical-align: middle;\n    }\n\n    .dataframe tbody tr th {\n        vertical-align: top;\n    }\n\n    .dataframe thead th {\n        text-align: right;\n    }\n</style>\n<table border=\"1\" class=\"dataframe\">\n  <thead>\n    <tr style=\"text-align: right;\">\n      <th></th>\n      <th>team_one_name</th>\n      <th>team_two_name</th>\n      <th>map_name</th>\n      <th>map_winner</th>\n      <th>map_loser</th>\n      <th>winning_team_final_map_score</th>\n      <th>losing_team_final_map_score</th>\n    </tr>\n  </thead>\n  <tbody>\n    <tr>\n      <th>0</th>\n      <td>Los Angeles Valiant</td>\n      <td>San Francisco Shock</td>\n      <td>Dorado</td>\n      <td>Los Angeles Valiant</td>\n      <td>San Francisco Shock</td>\n      <td>3</td>\n      <td>3</td>\n    </tr>\n    <tr>\n      <th>1</th>\n      <td>Los Angeles Valiant</td>\n      <td>San Francisco Shock</td>\n      <td>Dorado</td>\n      <td>Los Angeles Valiant</td>\n      <td>San Francisco Shock</td>\n      <td>3</td>\n      <td>3</td>\n    </tr>\n    <tr>\n      <th>2</th>\n      <td>Los Angeles Valiant</td>\n      <td>San Francisco Shock</td>\n      <td>Temple of Anubis</td>\n      <td>Los Angeles Valiant</td>\n      <td>San Francisco Shock</td>\n      <td>4</td>\n      <td>4</td>\n    </tr>\n    <tr>\n      <th>3</th>\n      <td>Los Angeles Valiant</td>\n      <td>San Francisco Shock</td>\n      <td>Temple of Anubis</td>\n      <td>Los Angeles Valiant</td>\n      <td>San Francisco Shock</td>\n      <td>4</td>\n      <td>4</td>\n    </tr>\n    <tr>\n      <th>4</th>\n      <td>Los Angeles Valiant</td>\n      <td>San Francisco Shock</td>\n      <td>Temple of Anubis</td>\n      <td>Los Angeles Valiant</td>\n      <td>San Francisco Shock</td>\n      <td>4</td>\n      <td>4</td>\n    </tr>\n  </tbody>\n</table>\n</div>"
     },
     "execution_count": 84,
     "metadata": {},
     "output_type": "execute_result"
    }
   ],
   "source": [
    "df.head()"
   ],
   "metadata": {
    "collapsed": false
   }
  },
  {
   "cell_type": "markdown",
   "source": [
    "Also, as the data present in the dataset is mainly strings for team names and map names, we need to convert it to numerical data, so the model can understand it. For this, we will use the LabelEncoder from scikit-learn.\n",
    "\n",
    "The helper functions below will help us to convert the data to numerical data and also to convert it back to the original data whenever needed."
   ],
   "metadata": {
    "collapsed": false
   }
  },
  {
   "cell_type": "code",
   "execution_count": 85,
   "outputs": [],
   "source": [
    "default_dict = defaultdict(LabelEncoder)\n",
    "\n",
    "\n",
    "# we need to convert the categorical data into numerical data so the model can understand it\n",
    "def categorize_df(df: pd.DataFrame):\n",
    "    return df.apply(lambda x: default_dict[x.name].fit_transform(x))\n",
    "\n",
    "\n",
    "def prettify_df(categorized_df: pd.DataFrame):\n",
    "    return categorized_df.apply(lambda x: default_dict[x.name].inverse_transform(x))\n",
    "\n",
    "\n",
    "def get_map_winner_name(map_winner: int):\n",
    "    res = default_dict['map_winner'].inverse_transform([map_winner])\n",
    "    return res.item(0)\n",
    "\n"
   ],
   "metadata": {
    "collapsed": false
   }
  },
  {
   "cell_type": "markdown",
   "source": [
    "# **Stage 4**\n",
    "Choose and train Estimator.\n",
    "\n",
    "To help finding an estimator, the [Scikit-Learn Choosing the Right Estimator](https://scikit-learn.org/stable/tutorial/machine_learning_map/index.html) was used as a guide.\n",
    "\n",
    "The initial estimator chosen for this notebook is the Decision Tree Classifier, however if want to experiment with other classification methods like LogisticRegression and see if one is more accurate than other."
   ],
   "metadata": {
    "collapsed": false
   }
  },
  {
   "cell_type": "code",
   "execution_count": 86,
   "outputs": [
    {
     "name": "stdout",
     "output_type": "stream",
     "text": [
      "6950 6951 6950 6951\n"
     ]
    }
   ],
   "source": [
    "# These are the features to be taken into consideration when training the model\n",
    "features = ['team_one_name', 'team_two_name', 'map_name']\n",
    "\n",
    "# And target is what we want to be able to predict\n",
    "target = 'map_winner'\n",
    "\n",
    "random_state = 42\n",
    "# percentage of the dataset to be used for testing (the remainder will be used for training)\n",
    "test_size = 0.5\n",
    "\n",
    "categorized_df = categorize_df(df)\n",
    "\n",
    "# split the data into training and testing sets\n",
    "X_train, X_test, y_train, y_test = train_test_split(categorized_df[features], categorized_df[target],\n",
    "                                                    test_size=test_size, random_state=random_state)\n",
    "\n",
    "print(len(X_train), len(X_test), len(y_train), len(y_test))\n",
    "\n"
   ],
   "metadata": {
    "collapsed": false
   }
  },
  {
   "cell_type": "markdown",
   "source": [
    "#### DecisionTreeClassifier\n",
    "Let's create an estimator with the Decision Tree Classifier"
   ],
   "metadata": {
    "collapsed": false
   }
  },
  {
   "cell_type": "code",
   "execution_count": 87,
   "outputs": [
    {
     "name": "stdout",
     "output_type": "stream",
     "text": [
      "Accuracy: 0.7216227880880449\n"
     ]
    }
   ],
   "source": [
    "# create a decision tree classifier\n",
    "estimator = DecisionTreeClassifier()\n",
    "\n",
    "# fit the model on the training data\n",
    "estimator.fit(X_train, y_train)\n",
    "\n",
    "# make predictions on the testing data\n",
    "y_pred = estimator.predict(X_test)\n",
    "\n",
    "# evaluate the accuracy of the model\n",
    "accuracy = accuracy_score(y_test, y_pred)\n",
    "print(f\"Accuracy: {accuracy}\")"
   ],
   "metadata": {
    "collapsed": false
   }
  },
  {
   "cell_type": "markdown",
   "source": [
    "By using the DecisionTreeClassifier, we got an accuracy of more than 72% for the test (not used in the training) data, which is already impressive."
   ],
   "metadata": {
    "collapsed": false
   }
  },
  {
   "cell_type": "markdown",
   "source": [
    "# **Stage 5**\n",
    "### Evaluate your model and revisit 4...repeat..\n",
    "Now that we have a base-line for comparison (72% of accuracy), let's experiment other estimators and see if we can get a better accuracy with other known classification models"
   ],
   "metadata": {
    "collapsed": false
   }
  },
  {
   "cell_type": "code",
   "execution_count": 88,
   "outputs": [
    {
     "name": "stdout",
     "output_type": "stream",
     "text": [
      "Accuracy for LogisticRegression: 0.12041432887354338\n",
      "Accuracy for RandomForestClassifier: 0.712415479787081\n",
      "Accuracy for KNeighborsClassifier: 0.5110056107034959\n",
      "Accuracy for SGDClassifier: 0.07653575025176233\n",
      "Accuracy for SVC: 0.29247590274780605\n"
     ]
    }
   ],
   "source": [
    "estimators_to_be_tested = {\n",
    "    'LogisticRegression': LogisticRegression(max_iter=10000),\n",
    "    'RandomForestClassifier': RandomForestClassifier(),\n",
    "    'KNeighborsClassifier': KNeighborsClassifier(),\n",
    "    'SGDClassifier': SGDClassifier(),\n",
    "    'SVC': SVC(max_iter=10000),\n",
    "}\n",
    "\n",
    "for name, estimator_instance in estimators_to_be_tested.items():\n",
    "    estimator_instance.fit(X_train, y_train)\n",
    "    temp_y_pred = estimator_instance.predict(X_test)\n",
    "    accuracy = accuracy_score(y_test, temp_y_pred)\n",
    "    print(f\"Accuracy for {name}: {accuracy}\")"
   ],
   "metadata": {
    "collapsed": false
   }
  },
  {
   "cell_type": "markdown",
   "source": [
    "As we can observe on the results above, given the exact same training/test data, the Decision Tree has still better results than the other ones. So, for now, we will keep using the Decision Tree Classifier."
   ],
   "metadata": {
    "collapsed": false
   }
  },
  {
   "cell_type": "markdown",
   "source": [
    "### Fine-tuning\n",
    "Now that we have decided to continue using the Decision Tree Classifier, let's try to fine-tune it to see if we can get a better accuracy.\n",
    "We'll loop through possible percentages of test_sizes (from 1% until 100%) and see if we can get a relevant accuracy without overfitting the model."
   ],
   "metadata": {
    "collapsed": false
   }
  },
  {
   "cell_type": "code",
   "execution_count": 89,
   "outputs": [
    {
     "data": {
      "text/plain": "<AxesSubplot:title={'center':'Accuracy by size of trained data'}, xlabel='% of dataset for training', ylabel='Accuracy %'>"
     },
     "execution_count": 89,
     "metadata": {},
     "output_type": "execute_result"
    },
    {
     "data": {
      "text/plain": "<Figure size 640x480 with 1 Axes>",
      "image/png": "[encoded data removed]"
     },
     "metadata": {},
     "output_type": "display_data"
    }
   ],
   "source": [
    "# These are the features to be taken into consideration when training the model\n",
    "features = ['team_one_name', 'team_two_name', 'map_name']\n",
    "\n",
    "# And target is what we want to be able to predict\n",
    "target = 'map_winner'\n",
    "\n",
    "random_state = 42\n",
    "\n",
    "# percentage of the dataset to be used for testing (the remainder will be used for training)\n",
    "test_sizes = range(1, 100)\n",
    "\n",
    "results = {'test_size': [], 'train_size':[], 'accuracy': []}\n",
    "\n",
    "for size in test_sizes:\n",
    "    size = size/100\n",
    "    categorized_df = categorize_df(df)\n",
    "\n",
    "    # split the data into training and testing sets\n",
    "    X_train, X_test, y_train, y_test = train_test_split(categorized_df[features], categorized_df[target],\n",
    "                                                        test_size=size, random_state=random_state)\n",
    "\n",
    "    # create a decision tree classifier\n",
    "    estimator = DecisionTreeClassifier()\n",
    "\n",
    "    # fit the model on the training data\n",
    "    estimator.fit(X_train, y_train)\n",
    "\n",
    "    # make predictions on the testing data\n",
    "    y_pred = estimator.predict(X_test)\n",
    "\n",
    "    # evaluate the accuracy of the model\n",
    "    accuracy = accuracy_score(y_test, y_pred)\n",
    "\n",
    "    # store the results\n",
    "    results['test_size'].append(size)\n",
    "    results['train_size'].append(1-size)\n",
    "    results['accuracy'].append(accuracy)\n",
    "\n",
    "\n",
    "# let's plot the results\n",
    "results_df = pd.DataFrame(results)\n",
    "results_df.plot(x='train_size', y='accuracy', title='Accuracy by size of trained data', kind='line', xlabel='% of dataset for training', ylabel='Accuracy %')"
   ],
   "metadata": {
    "collapsed": false
   }
  },
  {
   "cell_type": "code",
   "execution_count": 90,
   "outputs": [
    {
     "data": {
      "text/plain": "    test_size  train_size  accuracy\n0        0.01        0.99  0.800000\n1        0.02        0.98  0.835125\n2        0.03        0.97  0.806220\n3        0.04        0.96  0.802513\n4        0.05        0.95  0.797414\n..        ...         ...       ...\n94       0.95        0.05  0.444419\n95       0.96        0.04  0.418659\n96       0.97        0.03  0.409819\n97       0.98        0.02  0.385892\n98       0.99        0.01  0.355690\n\n[99 rows x 3 columns]",
      "text/html": "<div>\n<style scoped>\n    .dataframe tbody tr th:only-of-type {\n        vertical-align: middle;\n    }\n\n    .dataframe tbody tr th {\n        vertical-align: top;\n    }\n\n    .dataframe thead th {\n        text-align: right;\n    }\n</style>\n<table border=\"1\" class=\"dataframe\">\n  <thead>\n    <tr style=\"text-align: right;\">\n      <th></th>\n      <th>test_size</th>\n      <th>train_size</th>\n      <th>accuracy</th>\n    </tr>\n  </thead>\n  <tbody>\n    <tr>\n      <th>0</th>\n      <td>0.01</td>\n      <td>0.99</td>\n      <td>0.800000</td>\n    </tr>\n    <tr>\n      <th>1</th>\n      <td>0.02</td>\n      <td>0.98</td>\n      <td>0.835125</td>\n    </tr>\n    <tr>\n      <th>2</th>\n      <td>0.03</td>\n      <td>0.97</td>\n      <td>0.806220</td>\n    </tr>\n    <tr>\n      <th>3</th>\n      <td>0.04</td>\n      <td>0.96</td>\n      <td>0.802513</td>\n    </tr>\n    <tr>\n      <th>4</th>\n      <td>0.05</td>\n      <td>0.95</td>\n      <td>0.797414</td>\n    </tr>\n    <tr>\n      <th>...</th>\n      <td>...</td>\n      <td>...</td>\n      <td>...</td>\n    </tr>\n    <tr>\n      <th>94</th>\n      <td>0.95</td>\n      <td>0.05</td>\n      <td>0.444419</td>\n    </tr>\n    <tr>\n      <th>95</th>\n      <td>0.96</td>\n      <td>0.04</td>\n      <td>0.418659</td>\n    </tr>\n    <tr>\n      <th>96</th>\n      <td>0.97</td>\n      <td>0.03</td>\n      <td>0.409819</td>\n    </tr>\n    <tr>\n      <th>97</th>\n      <td>0.98</td>\n      <td>0.02</td>\n      <td>0.385892</td>\n    </tr>\n    <tr>\n      <th>98</th>\n      <td>0.99</td>\n      <td>0.01</td>\n      <td>0.355690</td>\n    </tr>\n  </tbody>\n</table>\n<p>99 rows × 3 columns</p>\n</div>"
     },
     "execution_count": 90,
     "metadata": {},
     "output_type": "execute_result"
    }
   ],
   "source": [
    "results_df"
   ],
   "metadata": {
    "collapsed": false
   }
  },
  {
   "cell_type": "markdown",
   "source": [
    "As we can observe in the Line diagram and in the table above, the accuracy of the model is affected depending on the size of the dataset used for training. And can have an accuracy of 79% using 81% of the dataset for training. 81% is the percentages that  will be utilized for training our model, as it provide a good enough accuracy without causing overfitting.\n",
    "\n",
    "So we'll change from 50% to 81% the size of the dataset used for training, with an improvement of 7% in accuracy.\n",
    "\n",
    "So let's train our model again (next cell), but this time using 81% of the dataset for training.\n",
    "\n"
   ],
   "metadata": {
    "collapsed": false
   }
  },
  {
   "cell_type": "code",
   "execution_count": 91,
   "outputs": [
    {
     "name": "stdout",
     "output_type": "stream",
     "text": [
      "0.7922028766086299\n"
     ]
    }
   ],
   "source": [
    "# These are the features to be taken into consideration when training the model\n",
    "features = ['team_one_name', 'team_two_name', 'map_name']\n",
    "\n",
    "# And target is what we want to be able to predict\n",
    "target = 'map_winner'\n",
    "\n",
    "random_state = 42\n",
    "\n",
    "# percentage of the dataset to be used for testing (the remainder will be used for training)\n",
    "test_size = 0.19  # (81% used for training)\n",
    "\n",
    "results = {'test_size': [], 'train_size':[], 'accuracy': []}\n",
    "\n",
    "categorized_df = categorize_df(df)\n",
    "\n",
    "# split the data into training and testing sets\n",
    "X_train, X_test, y_train, y_test = train_test_split(categorized_df[features], categorized_df[target],\n",
    "                                                    test_size=test_size, random_state=random_state)\n",
    "# create a decision tree classifier\n",
    "estimator = DecisionTreeClassifier()\n",
    "\n",
    "# fit the model on the training data\n",
    "estimator.fit(X_train, y_train)\n",
    "\n",
    "# make predictions on the testing data\n",
    "y_pred = estimator.predict(X_test)\n",
    "\n",
    "# evaluate the accuracy of the model\n",
    "accuracy = accuracy_score(y_test, y_pred)\n",
    "\n",
    "print(accuracy)"
   ],
   "metadata": {
    "collapsed": false
   }
  },
  {
   "cell_type": "markdown",
   "source": [
    "### Randomly testing\n",
    "Let's randomly pick 10 rows from the dataset and see if the model can predict the winner of the map correctly."
   ],
   "metadata": {
    "collapsed": false
   }
  },
  {
   "cell_type": "code",
   "execution_count": 92,
   "outputs": [
    {
     "name": "stdout",
     "output_type": "stream",
     "text": [
      "       team_one_name  team_two_name  map_winner  prediction\n",
      "2549              11              3          11          11\n",
      "9445              13             17          13          13\n",
      "9441              13             17          22          17\n",
      "2462               1             11           1           1\n",
      "3173               3             17          17          17\n",
      "12642              6             15          15          15\n",
      "4180               7              5           5           5\n",
      "3470              15             11          15          15\n",
      "1149              17              7           7           7\n",
      "11475              9             14          14          14\n"
     ]
    }
   ],
   "source": [
    "random_to_check = [random.randint(0, len(df)) for _ in range(10)]\n",
    "\n",
    "to_test = categorized_df.loc[random_to_check]\n",
    "\n",
    "to_test['prediction'] = estimator.predict(to_test[features])\n",
    "\n",
    "# check the last 2 columns to compare map_winner and prediction\n",
    "print(to_test[['team_one_name', 'team_two_name', 'map_winner', 'prediction']])"
   ],
   "metadata": {
    "collapsed": false
   }
  },
  {
   "cell_type": "markdown",
   "source": [
    "## Stage 5.5 Tool for teams\n",
    "Despite not being explicitly requested, at this stage, we'll provide a tool for teams to be able to use the model to predict what map to choose next.\n",
    "Users of this tool will be asked 2 inputs: ID of their team and ID of the opponent team.\n",
    "\n",
    "Then the tool will take all existing maps and based on the user inputs will try to predict the winner (if any) of each map.\n",
    "This is essentially the final goal of the project, so we'll be using the model we trained and refined from the previous stages."
   ],
   "metadata": {
    "collapsed": false
   }
  },
  {
   "cell_type": "code",
   "execution_count": 191,
   "outputs": [
    {
     "name": "stdout",
     "output_type": "stream",
     "text": [
      "List of Teams Available\n",
      "0 - Los Angeles Valiant\n",
      "1 - Los Angeles Gladiators\n",
      "2 - Shanghai Dragons\n",
      "3 - Seoul Dynasty\n",
      "4 - Dallas Fuel\n",
      "5 - Florida Mayhem\n",
      "6 - London Spitfire\n",
      "7 - Houston Outlaws\n",
      "8 - Philadelphia Fusion\n",
      "9 - New York Excelsior\n",
      "10 - Boston Uprising\n",
      "11 - San Francisco Shock\n",
      "12 - Hangzhou Spark\n",
      "13 - Toronto Defiant\n",
      "14 - Atlanta Reign\n",
      "15 - Chengdu Hunters\n",
      "16 - Guangzhou Charge\n",
      "17 - Paris Eternal\n",
      "18 - Washington Justice\n",
      "19 - Vancouver Titans\n",
      "20 - Vegas Eternal\n",
      "21 - Seoul Infernal\n"
     ]
    }
   ],
   "source": [
    "print(\"List of Teams Available\")\n",
    "teams = df['team_one_name'].unique()\n",
    "for i, name in enumerate(teams):\n",
    "    print(f\"{i} - {name}\")"
   ],
   "metadata": {
    "collapsed": false
   }
  },
  {
   "cell_type": "markdown",
   "source": [
    "### Choosing teams\n",
    "Here we'll ask users to input their team and their opponent team.\n"
   ],
   "metadata": {
    "collapsed": false
   }
  },
  {
   "cell_type": "code",
   "execution_count": 192,
   "outputs": [
    {
     "name": "stdout",
     "output_type": "stream",
     "text": [
      "Your team is Florida Mayhem\n",
      "Your opponent team is London Spitfire\n"
     ]
    }
   ],
   "source": [
    "my_team, opponent_team = None, None\n",
    "\n",
    "while my_team is None:\n",
    "    team = int(input(f\"What is your team? (0-{len(teams)-1})\"))\n",
    "    if 0 <= team < len(teams):\n",
    "        print(f\"Your team is {teams[team]}\")\n",
    "        my_team = team\n",
    "    else:\n",
    "        print(\"Invalid choice, please try again\")\n",
    "\n",
    "while opponent_team is None:\n",
    "    team = int(input(f\"What is your opponent team?(0-{len(teams)-1}) It must not be {teams[my_team]} \"))\n",
    "    if 0 <= team < len(teams):\n",
    "        print(f\"Your opponent team is {teams[team]}\")\n",
    "        opponent_team = team\n",
    "    else:\n",
    "        print(\"Invalid choice, please try again\")"
   ],
   "metadata": {
    "collapsed": false
   }
  },
  {
   "cell_type": "markdown",
   "source": [
    "### Computing Predictions\n",
    "Here we'll compute the predictions for each map, and we'll show the results to the user."
   ],
   "metadata": {
    "collapsed": false
   }
  },
  {
   "cell_type": "code",
   "execution_count": 194,
   "outputs": [
    {
     "data": {
      "text/plain": "    index   team_one_name    team_two_name               map_name  \\\n0   13901  Florida Mayhem  London Spitfire                 Dorado   \n1   13902  Florida Mayhem  London Spitfire       Temple of Anubis   \n2   13903  Florida Mayhem  London Spitfire                  Ilios   \n3   13904  Florida Mayhem  London Spitfire                Numbani   \n4   13905  Florida Mayhem  London Spitfire            Eichenwalde   \n5   13906  Florida Mayhem  London Spitfire             Junkertown   \n6   13907  Florida Mayhem  London Spitfire                  Oasis   \n7   13908  Florida Mayhem  London Spitfire   Horizon Lunar Colony   \n8   13909  Florida Mayhem  London Spitfire          Lijiang Tower   \n9   13910  Florida Mayhem  London Spitfire    Volskaya Industries   \n10  13911  Florida Mayhem  London Spitfire                  Nepal   \n11  13912  Florida Mayhem  London Spitfire             King's Row   \n12  13913  Florida Mayhem  London Spitfire               Route 66   \n13  13914  Florida Mayhem  London Spitfire              Hollywood   \n14  13915  Florida Mayhem  London Spitfire               Hanamura   \n15  13916  Florida Mayhem  London Spitfire  Watchpoint: Gibraltar   \n16  13917  Florida Mayhem  London Spitfire         Blizzard World   \n17  13918  Florida Mayhem  London Spitfire                 Rialto   \n18  13919  Florida Mayhem  London Spitfire                  Busan   \n19  13920  Florida Mayhem  London Spitfire                  Paris   \n20  13921  Florida Mayhem  London Spitfire                 Havana   \n21  13922  Florida Mayhem  London Spitfire                Midtown   \n22  13923  Florida Mayhem  London Spitfire          Circuit royal   \n23  13924  Florida Mayhem  London Spitfire       New Queen Street   \n24  13925  Florida Mayhem  London Spitfire               Colosseo   \n25  13926  Florida Mayhem  London Spitfire                Paraíso   \n26  13927  Florida Mayhem  London Spitfire              Esperança   \n\n   prediction_winner  \n0     Florida Mayhem  \n1    London Spitfire  \n2     Florida Mayhem  \n3    London Spitfire  \n4     Florida Mayhem  \n5     Florida Mayhem  \n6    London Spitfire  \n7     Florida Mayhem  \n8    London Spitfire  \n9               draw  \n10   London Spitfire  \n11   London Spitfire  \n12   London Spitfire  \n13    Florida Mayhem  \n14    Florida Mayhem  \n15    Florida Mayhem  \n16    Florida Mayhem  \n17    Florida Mayhem  \n18    Florida Mayhem  \n19    Florida Mayhem  \n20    Florida Mayhem  \n21   London Spitfire  \n22    Florida Mayhem  \n23   London Spitfire  \n24    Florida Mayhem  \n25   London Spitfire  \n26    Florida Mayhem  ",
      "text/html": "<div>\n<style scoped>\n    .dataframe tbody tr th:only-of-type {\n        vertical-align: middle;\n    }\n\n    .dataframe tbody tr th {\n        vertical-align: top;\n    }\n\n    .dataframe thead th {\n        text-align: right;\n    }\n</style>\n<table border=\"1\" class=\"dataframe\">\n  <thead>\n    <tr style=\"text-align: right;\">\n      <th></th>\n      <th>index</th>\n      <th>team_one_name</th>\n      <th>team_two_name</th>\n      <th>map_name</th>\n      <th>prediction_winner</th>\n    </tr>\n  </thead>\n  <tbody>\n    <tr>\n      <th>0</th>\n      <td>13901</td>\n      <td>Florida Mayhem</td>\n      <td>London Spitfire</td>\n      <td>Dorado</td>\n      <td>Florida Mayhem</td>\n    </tr>\n    <tr>\n      <th>1</th>\n      <td>13902</td>\n      <td>Florida Mayhem</td>\n      <td>London Spitfire</td>\n      <td>Temple of Anubis</td>\n      <td>London Spitfire</td>\n    </tr>\n    <tr>\n      <th>2</th>\n      <td>13903</td>\n      <td>Florida Mayhem</td>\n      <td>London Spitfire</td>\n      <td>Ilios</td>\n      <td>Florida Mayhem</td>\n    </tr>\n    <tr>\n      <th>3</th>\n      <td>13904</td>\n      <td>Florida Mayhem</td>\n      <td>London Spitfire</td>\n      <td>Numbani</td>\n      <td>London Spitfire</td>\n    </tr>\n    <tr>\n      <th>4</th>\n      <td>13905</td>\n      <td>Florida Mayhem</td>\n      <td>London Spitfire</td>\n      <td>Eichenwalde</td>\n      <td>Florida Mayhem</td>\n    </tr>\n    <tr>\n      <th>5</th>\n      <td>13906</td>\n      <td>Florida Mayhem</td>\n      <td>London Spitfire</td>\n      <td>Junkertown</td>\n      <td>Florida Mayhem</td>\n    </tr>\n    <tr>\n      <th>6</th>\n      <td>13907</td>\n      <td>Florida Mayhem</td>\n      <td>London Spitfire</td>\n      <td>Oasis</td>\n      <td>London Spitfire</td>\n    </tr>\n    <tr>\n      <th>7</th>\n      <td>13908</td>\n      <td>Florida Mayhem</td>\n      <td>London Spitfire</td>\n      <td>Horizon Lunar Colony</td>\n      <td>Florida Mayhem</td>\n    </tr>\n    <tr>\n      <th>8</th>\n      <td>13909</td>\n      <td>Florida Mayhem</td>\n      <td>London Spitfire</td>\n      <td>Lijiang Tower</td>\n      <td>London Spitfire</td>\n    </tr>\n    <tr>\n      <th>9</th>\n      <td>13910</td>\n      <td>Florida Mayhem</td>\n      <td>London Spitfire</td>\n      <td>Volskaya Industries</td>\n      <td>draw</td>\n    </tr>\n    <tr>\n      <th>10</th>\n      <td>13911</td>\n      <td>Florida Mayhem</td>\n      <td>London Spitfire</td>\n      <td>Nepal</td>\n      <td>London Spitfire</td>\n    </tr>\n    <tr>\n      <th>11</th>\n      <td>13912</td>\n      <td>Florida Mayhem</td>\n      <td>London Spitfire</td>\n      <td>King's Row</td>\n      <td>London Spitfire</td>\n    </tr>\n    <tr>\n      <th>12</th>\n      <td>13913</td>\n      <td>Florida Mayhem</td>\n      <td>London Spitfire</td>\n      <td>Route 66</td>\n      <td>London Spitfire</td>\n    </tr>\n    <tr>\n      <th>13</th>\n      <td>13914</td>\n      <td>Florida Mayhem</td>\n      <td>London Spitfire</td>\n      <td>Hollywood</td>\n      <td>Florida Mayhem</td>\n    </tr>\n    <tr>\n      <th>14</th>\n      <td>13915</td>\n      <td>Florida Mayhem</td>\n      <td>London Spitfire</td>\n      <td>Hanamura</td>\n      <td>Florida Mayhem</td>\n    </tr>\n    <tr>\n      <th>15</th>\n      <td>13916</td>\n      <td>Florida Mayhem</td>\n      <td>London Spitfire</td>\n      <td>Watchpoint: Gibraltar</td>\n      <td>Florida Mayhem</td>\n    </tr>\n    <tr>\n      <th>16</th>\n      <td>13917</td>\n      <td>Florida Mayhem</td>\n      <td>London Spitfire</td>\n      <td>Blizzard World</td>\n      <td>Florida Mayhem</td>\n    </tr>\n    <tr>\n      <th>17</th>\n      <td>13918</td>\n      <td>Florida Mayhem</td>\n      <td>London Spitfire</td>\n      <td>Rialto</td>\n      <td>Florida Mayhem</td>\n    </tr>\n    <tr>\n      <th>18</th>\n      <td>13919</td>\n      <td>Florida Mayhem</td>\n      <td>London Spitfire</td>\n      <td>Busan</td>\n      <td>Florida Mayhem</td>\n    </tr>\n    <tr>\n      <th>19</th>\n      <td>13920</td>\n      <td>Florida Mayhem</td>\n      <td>London Spitfire</td>\n      <td>Paris</td>\n      <td>Florida Mayhem</td>\n    </tr>\n    <tr>\n      <th>20</th>\n      <td>13921</td>\n      <td>Florida Mayhem</td>\n      <td>London Spitfire</td>\n      <td>Havana</td>\n      <td>Florida Mayhem</td>\n    </tr>\n    <tr>\n      <th>21</th>\n      <td>13922</td>\n      <td>Florida Mayhem</td>\n      <td>London Spitfire</td>\n      <td>Midtown</td>\n      <td>London Spitfire</td>\n    </tr>\n    <tr>\n      <th>22</th>\n      <td>13923</td>\n      <td>Florida Mayhem</td>\n      <td>London Spitfire</td>\n      <td>Circuit royal</td>\n      <td>Florida Mayhem</td>\n    </tr>\n    <tr>\n      <th>23</th>\n      <td>13924</td>\n      <td>Florida Mayhem</td>\n      <td>London Spitfire</td>\n      <td>New Queen Street</td>\n      <td>London Spitfire</td>\n    </tr>\n    <tr>\n      <th>24</th>\n      <td>13925</td>\n      <td>Florida Mayhem</td>\n      <td>London Spitfire</td>\n      <td>Colosseo</td>\n      <td>Florida Mayhem</td>\n    </tr>\n    <tr>\n      <th>25</th>\n      <td>13926</td>\n      <td>Florida Mayhem</td>\n      <td>London Spitfire</td>\n      <td>Paraíso</td>\n      <td>London Spitfire</td>\n    </tr>\n    <tr>\n      <th>26</th>\n      <td>13927</td>\n      <td>Florida Mayhem</td>\n      <td>London Spitfire</td>\n      <td>Esperança</td>\n      <td>Florida Mayhem</td>\n    </tr>\n  </tbody>\n</table>\n</div>"
     },
     "metadata": {},
     "output_type": "display_data"
    }
   ],
   "source": [
    "unique_maps = list(df['map_name'].unique())\n",
    "\n",
    "# Let's build a dict w/ all unique maps and our team (as team one) and the opponent team (as team two)\n",
    "dict_data = {\n",
    "    'map_name': unique_maps,\n",
    "    'team_one_name': [teams[my_team]] * len(unique_maps),\n",
    "    'team_two_name': [teams[opponent_team]] * len(unique_maps)\n",
    "}\n",
    "\n",
    "# Let's make a copy of the original DF\n",
    "temp_df = df.copy(deep=True)\n",
    "\n",
    "# Let's append the data we want to predict\n",
    "temp_df = temp_df.append(pd.DataFrame(dict_data), ignore_index=True)\n",
    "\n",
    "# Let's categorize the data, so we can use it to predict\n",
    "temp_df = categorize_df(temp_df)\n",
    "\n",
    "# Let's create a new DF only w/ the data to be predicted (but still categorized)\n",
    "prediction_only_df = temp_df.tail(len(unique_maps))\n",
    "\n",
    "# calculate the prediction for each map\n",
    "prediction_winner = estimator.predict(prediction_only_df[features])\n",
    "\n",
    "prediction_only_df = prettify_df(prediction_only_df)\n",
    "prediction_only_df['prediction_winner'] = prediction_winner\n",
    "prediction_only_df['prediction_winner'] = default_dict['map_winner'].inverse_transform(prediction_only_df['prediction_winner'])\n",
    "final_prediction_df = prediction_only_df[features+['prediction_winner']].reset_index()\n",
    "display(final_prediction_df)\n"
   ],
   "metadata": {
    "collapsed": false
   }
  },
  {
   "cell_type": "markdown",
   "source": [
    "# **Stage 6**\n",
    "***Present results and Conclusions***\n",
    "\n",
    "\n",
    "In this project we were able to build a model that can predict the winner of a map based on the teams playing and the map being played.\n",
    "\n"
   ],
   "metadata": {
    "id": "4APZXYxS7Yef"
   }
  },
  {
   "cell_type": "markdown",
   "source": [],
   "metadata": {
    "id": "joNaHiMMhO6V"
   }
  }
 ],
 "metadata": {
  "interpreter": {
   "hash": "31f2aee4e71d21fbe5cf8b01ff0e069b9275f58929596ceb00d14d90e3e16cd6"
  },
  "kernelspec": {
   "display_name": "Python 3.6.9 64-bit",
   "language": "python",
   "name": "python3"
  },
  "language_info": {
   "codemirror_mode": {
    "name": "ipython",
    "version": 3
   },
   "file_extension": ".py",
   "mimetype": "text/x-python",
   "name": "python",
   "nbconvert_exporter": "python",
   "pygments_lexer": "ipython3",
   "version": "3.6.9"
  },
  "orig_nbformat": 4,
  "colab": {
   "provenance": []
  }
 },
 "nbformat": 4,
 "nbformat_minor": 0
}
