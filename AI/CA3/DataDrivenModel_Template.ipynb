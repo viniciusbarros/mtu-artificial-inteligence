{
 "cells": [
  {
   "cell_type": "markdown",
   "source": [
    "# CA3 - Data Driven Model\n",
    "- Student Name: **Vinicius Moura Barros**\n",
    "- Student Number: **T00244396**\n",
    "## **Allocation of marks**\n",
    "\n",
    "Stages 1,2,3   Total 30%\n",
    "\n",
    "Ideally your dataset will not need a lot of work. Marks going for the choosing,  training, evaluation and refining of model primarily\n",
    "\n",
    "\n",
    "---\n",
    "\n",
    "\n",
    "\n",
    "Stage 4,5       Total 60%\n",
    "\n",
    "Choose your model\n",
    "\n",
    "https://scikit-learn.org/stable/tutorial/machine_learning_map/index.html\n",
    "\n",
    "\n",
    "Train and evaluate your model. Refine the model or choose another estimator or approach?\n",
    "\n",
    "Do not overwrite cells and add commentry between iterations.\n",
    "\n",
    "\n",
    "\n",
    "---\n",
    "\n",
    "\n",
    "\n",
    "\n",
    "Stage 6         Total 10%"
   ],
   "metadata": {
    "id": "sgQZcH7afs47"
   }
  },
  {
   "cell_type": "markdown",
   "source": [
    "# **Stage 1**\n",
    "***Describe Data***\n",
    "\n",
    "A brief description of the data, where you sourced it, headers of the data. Summary statistics, charts etc...\n",
    "\n",
    "If you using data from different sources how you might link them.\n",
    "\n",
    "```\n",
    "pip install scikit-learn\n",
    "\n",
    "```"
   ],
   "metadata": {
    "id": "9f8rIb1E6dQS"
   }
  },
  {
   "cell_type": "markdown",
   "source": [
    " ### Importing the libraries"
   ],
   "metadata": {
    "collapsed": false
   }
  },
  {
   "cell_type": "code",
   "source": [
    "import pandas as pd\n",
    "from collections import defaultdict\n",
    "from sklearn.model_selection import train_test_split\n",
    "from sklearn.ensemble import RandomForestClassifier\n",
    "from sklearn.tree import DecisionTreeClassifier\n",
    "from sklearn.metrics import accuracy_score\n",
    "from sklearn.preprocessing import LabelEncoder"
   ],
   "metadata": {
    "id": "uY1dExPehLAq"
   },
   "execution_count": 1,
   "outputs": []
  },
  {
   "cell_type": "markdown",
   "source": [
    "### Loading Dataset"
   ],
   "metadata": {
    "collapsed": false
   },
   "execution_count": 1
  },
  {
   "cell_type": "code",
   "execution_count": 2,
   "outputs": [
    {
     "name": "stdout",
     "output_type": "stream",
     "text": [
      "<class 'pandas.core.frame.DataFrame'>\n",
      "RangeIndex: 13901 entries, 0 to 13900\n",
      "Data columns (total 25 columns):\n",
      " #   Column                        Non-Null Count  Dtype  \n",
      "---  ------                        --------------  -----  \n",
      " 0   round_start_time              13901 non-null  object \n",
      " 1   round_end_time                13901 non-null  object \n",
      " 2   stage                         13901 non-null  object \n",
      " 3   match_id                      13901 non-null  int64  \n",
      " 4   game_number                   13901 non-null  int64  \n",
      " 5   match_winner                  13901 non-null  object \n",
      " 6   map_winner                    13901 non-null  object \n",
      " 7   map_loser                     13901 non-null  object \n",
      " 8   map_name                      13901 non-null  object \n",
      " 9   map_round                     13901 non-null  int64  \n",
      " 10  winning_team_final_map_score  13901 non-null  int64  \n",
      " 11  losing_team_final_map_score   13901 non-null  int64  \n",
      " 12  control_round_name            4270 non-null   object \n",
      " 13  Attacker                      13901 non-null  object \n",
      " 14  Defender                      13901 non-null  object \n",
      " 15  team_one_name                 13901 non-null  object \n",
      " 16  team_two_name                 13901 non-null  object \n",
      " 17  attacker_payload_distance     13901 non-null  float64\n",
      " 18  defender_payload_distance     13901 non-null  float64\n",
      " 19  attacker_time_banked          13901 non-null  float64\n",
      " 20  defender_time_banked          13901 non-null  float64\n",
      " 21  attacker_control_perecent     4269 non-null   float64\n",
      " 22  defender_control_perecent     4269 non-null   float64\n",
      " 23  attacker_round_end_score      13901 non-null  int64  \n",
      " 24  defender_round_end_score      13901 non-null  int64  \n",
      "dtypes: float64(6), int64(7), object(12)\n",
      "memory usage: 2.7+ MB\n"
     ]
    },
    {
     "data": {
      "text/plain": "  round_start_time  round_end_time          stage  match_id  game_number  \\\n0   01/11/18 00:12  01/11/18 00:20  2018: Stage 1     10223            1   \n1   01/11/18 00:22  01/11/18 00:27  2018: Stage 1     10223            1   \n2   01/11/18 00:34  01/11/18 00:38  2018: Stage 1     10223            2   \n3   01/11/18 00:40  01/11/18 00:44  2018: Stage 1     10223            2   \n4   01/11/18 00:46  01/11/18 00:49  2018: Stage 1     10223            2   \n\n          match_winner           map_winner            map_loser  \\\n0  Los Angeles Valiant  Los Angeles Valiant  San Francisco Shock   \n1  Los Angeles Valiant  Los Angeles Valiant  San Francisco Shock   \n2  Los Angeles Valiant  Los Angeles Valiant  San Francisco Shock   \n3  Los Angeles Valiant  Los Angeles Valiant  San Francisco Shock   \n4  Los Angeles Valiant  Los Angeles Valiant  San Francisco Shock   \n\n           map_name  map_round  ...        team_one_name        team_two_name  \\\n0            Dorado          1  ...  Los Angeles Valiant  San Francisco Shock   \n1            Dorado          2  ...  Los Angeles Valiant  San Francisco Shock   \n2  Temple of Anubis          1  ...  Los Angeles Valiant  San Francisco Shock   \n3  Temple of Anubis          2  ...  Los Angeles Valiant  San Francisco Shock   \n4  Temple of Anubis          3  ...  Los Angeles Valiant  San Francisco Shock   \n\n  attacker_payload_distance defender_payload_distance attacker_time_banked  \\\n0                  75.61505                   0.00000             0.000000   \n1                  75.64960                  75.61505           125.750570   \n2                   0.00000                   0.00000           250.492000   \n3                   0.00000                   0.00000           225.789030   \n4                   0.00000                   0.00000            36.396057   \n\n  defender_time_banked attacker_control_perecent  defender_control_perecent  \\\n0              240.000                       NaN                        NaN   \n1                0.000                       NaN                        NaN   \n2              240.000                       NaN                        NaN   \n3              250.492                       NaN                        NaN   \n4              250.492                       NaN                        NaN   \n\n   attacker_round_end_score  defender_round_end_score  \n0                         2                         0  \n1                         3                         2  \n2                         2                         0  \n3                         2                         2  \n4                         4                         2  \n\n[5 rows x 25 columns]",
      "text/html": "<div>\n<style scoped>\n    .dataframe tbody tr th:only-of-type {\n        vertical-align: middle;\n    }\n\n    .dataframe tbody tr th {\n        vertical-align: top;\n    }\n\n    .dataframe thead th {\n        text-align: right;\n    }\n</style>\n<table border=\"1\" class=\"dataframe\">\n  <thead>\n    <tr style=\"text-align: right;\">\n      <th></th>\n      <th>round_start_time</th>\n      <th>round_end_time</th>\n      <th>stage</th>\n      <th>match_id</th>\n      <th>game_number</th>\n      <th>match_winner</th>\n      <th>map_winner</th>\n      <th>map_loser</th>\n      <th>map_name</th>\n      <th>map_round</th>\n      <th>...</th>\n      <th>team_one_name</th>\n      <th>team_two_name</th>\n      <th>attacker_payload_distance</th>\n      <th>defender_payload_distance</th>\n      <th>attacker_time_banked</th>\n      <th>defender_time_banked</th>\n      <th>attacker_control_perecent</th>\n      <th>defender_control_perecent</th>\n      <th>attacker_round_end_score</th>\n      <th>defender_round_end_score</th>\n    </tr>\n  </thead>\n  <tbody>\n    <tr>\n      <th>0</th>\n      <td>01/11/18 00:12</td>\n      <td>01/11/18 00:20</td>\n      <td>2018: Stage 1</td>\n      <td>10223</td>\n      <td>1</td>\n      <td>Los Angeles Valiant</td>\n      <td>Los Angeles Valiant</td>\n      <td>San Francisco Shock</td>\n      <td>Dorado</td>\n      <td>1</td>\n      <td>...</td>\n      <td>Los Angeles Valiant</td>\n      <td>San Francisco Shock</td>\n      <td>75.61505</td>\n      <td>0.00000</td>\n      <td>0.000000</td>\n      <td>240.000</td>\n      <td>NaN</td>\n      <td>NaN</td>\n      <td>2</td>\n      <td>0</td>\n    </tr>\n    <tr>\n      <th>1</th>\n      <td>01/11/18 00:22</td>\n      <td>01/11/18 00:27</td>\n      <td>2018: Stage 1</td>\n      <td>10223</td>\n      <td>1</td>\n      <td>Los Angeles Valiant</td>\n      <td>Los Angeles Valiant</td>\n      <td>San Francisco Shock</td>\n      <td>Dorado</td>\n      <td>2</td>\n      <td>...</td>\n      <td>Los Angeles Valiant</td>\n      <td>San Francisco Shock</td>\n      <td>75.64960</td>\n      <td>75.61505</td>\n      <td>125.750570</td>\n      <td>0.000</td>\n      <td>NaN</td>\n      <td>NaN</td>\n      <td>3</td>\n      <td>2</td>\n    </tr>\n    <tr>\n      <th>2</th>\n      <td>01/11/18 00:34</td>\n      <td>01/11/18 00:38</td>\n      <td>2018: Stage 1</td>\n      <td>10223</td>\n      <td>2</td>\n      <td>Los Angeles Valiant</td>\n      <td>Los Angeles Valiant</td>\n      <td>San Francisco Shock</td>\n      <td>Temple of Anubis</td>\n      <td>1</td>\n      <td>...</td>\n      <td>Los Angeles Valiant</td>\n      <td>San Francisco Shock</td>\n      <td>0.00000</td>\n      <td>0.00000</td>\n      <td>250.492000</td>\n      <td>240.000</td>\n      <td>NaN</td>\n      <td>NaN</td>\n      <td>2</td>\n      <td>0</td>\n    </tr>\n    <tr>\n      <th>3</th>\n      <td>01/11/18 00:40</td>\n      <td>01/11/18 00:44</td>\n      <td>2018: Stage 1</td>\n      <td>10223</td>\n      <td>2</td>\n      <td>Los Angeles Valiant</td>\n      <td>Los Angeles Valiant</td>\n      <td>San Francisco Shock</td>\n      <td>Temple of Anubis</td>\n      <td>2</td>\n      <td>...</td>\n      <td>Los Angeles Valiant</td>\n      <td>San Francisco Shock</td>\n      <td>0.00000</td>\n      <td>0.00000</td>\n      <td>225.789030</td>\n      <td>250.492</td>\n      <td>NaN</td>\n      <td>NaN</td>\n      <td>2</td>\n      <td>2</td>\n    </tr>\n    <tr>\n      <th>4</th>\n      <td>01/11/18 00:46</td>\n      <td>01/11/18 00:49</td>\n      <td>2018: Stage 1</td>\n      <td>10223</td>\n      <td>2</td>\n      <td>Los Angeles Valiant</td>\n      <td>Los Angeles Valiant</td>\n      <td>San Francisco Shock</td>\n      <td>Temple of Anubis</td>\n      <td>3</td>\n      <td>...</td>\n      <td>Los Angeles Valiant</td>\n      <td>San Francisco Shock</td>\n      <td>0.00000</td>\n      <td>0.00000</td>\n      <td>36.396057</td>\n      <td>250.492</td>\n      <td>NaN</td>\n      <td>NaN</td>\n      <td>4</td>\n      <td>2</td>\n    </tr>\n  </tbody>\n</table>\n<p>5 rows × 25 columns</p>\n</div>"
     },
     "execution_count": 2,
     "metadata": {},
     "output_type": "execute_result"
    }
   ],
   "source": [
    "DATASET = 'data/overwatch_match_map_stats.csv'\n",
    "df = pd.read_csv(DATASET)\n",
    "df.info()\n",
    "df.head()"
   ],
   "metadata": {
    "collapsed": false
   }
  },
  {
   "cell_type": "markdown",
   "source": [
    "### Filtering the data\n",
    "We don't need all the data, so we will filter it to only the data necessary to train the model\n"
   ],
   "metadata": {
    "collapsed": false
   }
  },
  {
   "cell_type": "code",
   "execution_count": 3,
   "outputs": [],
   "source": [
    "df = df[['team_one_name', 'team_two_name', 'map_name', 'map_winner', 'map_loser', 'winning_team_final_map_score',\n",
    "         'losing_team_final_map_score']]"
   ],
   "metadata": {
    "collapsed": false
   }
  },
  {
   "cell_type": "code",
   "execution_count": 4,
   "outputs": [
    {
     "data": {
      "text/plain": "         team_one_name        team_two_name          map_name  \\\n0  Los Angeles Valiant  San Francisco Shock            Dorado   \n1  Los Angeles Valiant  San Francisco Shock            Dorado   \n2  Los Angeles Valiant  San Francisco Shock  Temple of Anubis   \n3  Los Angeles Valiant  San Francisco Shock  Temple of Anubis   \n4  Los Angeles Valiant  San Francisco Shock  Temple of Anubis   \n\n            map_winner            map_loser  winning_team_final_map_score  \\\n0  Los Angeles Valiant  San Francisco Shock                             3   \n1  Los Angeles Valiant  San Francisco Shock                             3   \n2  Los Angeles Valiant  San Francisco Shock                             4   \n3  Los Angeles Valiant  San Francisco Shock                             4   \n4  Los Angeles Valiant  San Francisco Shock                             4   \n\n   losing_team_final_map_score  \n0                            3  \n1                            3  \n2                            4  \n3                            4  \n4                            4  ",
      "text/html": "<div>\n<style scoped>\n    .dataframe tbody tr th:only-of-type {\n        vertical-align: middle;\n    }\n\n    .dataframe tbody tr th {\n        vertical-align: top;\n    }\n\n    .dataframe thead th {\n        text-align: right;\n    }\n</style>\n<table border=\"1\" class=\"dataframe\">\n  <thead>\n    <tr style=\"text-align: right;\">\n      <th></th>\n      <th>team_one_name</th>\n      <th>team_two_name</th>\n      <th>map_name</th>\n      <th>map_winner</th>\n      <th>map_loser</th>\n      <th>winning_team_final_map_score</th>\n      <th>losing_team_final_map_score</th>\n    </tr>\n  </thead>\n  <tbody>\n    <tr>\n      <th>0</th>\n      <td>Los Angeles Valiant</td>\n      <td>San Francisco Shock</td>\n      <td>Dorado</td>\n      <td>Los Angeles Valiant</td>\n      <td>San Francisco Shock</td>\n      <td>3</td>\n      <td>3</td>\n    </tr>\n    <tr>\n      <th>1</th>\n      <td>Los Angeles Valiant</td>\n      <td>San Francisco Shock</td>\n      <td>Dorado</td>\n      <td>Los Angeles Valiant</td>\n      <td>San Francisco Shock</td>\n      <td>3</td>\n      <td>3</td>\n    </tr>\n    <tr>\n      <th>2</th>\n      <td>Los Angeles Valiant</td>\n      <td>San Francisco Shock</td>\n      <td>Temple of Anubis</td>\n      <td>Los Angeles Valiant</td>\n      <td>San Francisco Shock</td>\n      <td>4</td>\n      <td>4</td>\n    </tr>\n    <tr>\n      <th>3</th>\n      <td>Los Angeles Valiant</td>\n      <td>San Francisco Shock</td>\n      <td>Temple of Anubis</td>\n      <td>Los Angeles Valiant</td>\n      <td>San Francisco Shock</td>\n      <td>4</td>\n      <td>4</td>\n    </tr>\n    <tr>\n      <th>4</th>\n      <td>Los Angeles Valiant</td>\n      <td>San Francisco Shock</td>\n      <td>Temple of Anubis</td>\n      <td>Los Angeles Valiant</td>\n      <td>San Francisco Shock</td>\n      <td>4</td>\n      <td>4</td>\n    </tr>\n  </tbody>\n</table>\n</div>"
     },
     "execution_count": 4,
     "metadata": {},
     "output_type": "execute_result"
    }
   ],
   "source": [
    "df.head()"
   ],
   "metadata": {
    "collapsed": false
   }
  },
  {
   "cell_type": "code",
   "execution_count": 5,
   "outputs": [],
   "source": [
    "default_dict = defaultdict(LabelEncoder)\n",
    "\n",
    "# we need to convert the categorical data into numerical data so the model can understand it\n",
    "def categorize_df(df: pd.DataFrame):\n",
    "    return df.apply(lambda x: default_dict[x.name].fit_transform(x))\n",
    "\n",
    "def prettify_df(categorized_df: pd.DataFrame):\n",
    "    return categorized_df.apply(lambda x: default_dict[x.name].inverse_transform(x))\n",
    "\n",
    "def get_map_winner_name(map_winner: int):\n",
    "    res = default_dict['map_winner'].inverse_transform([map_winner])\n",
    "    return res.item(0)\n",
    "\n"
   ],
   "metadata": {
    "collapsed": false
   }
  },
  {
   "cell_type": "code",
   "execution_count": 6,
   "outputs": [
    {
     "name": "stdout",
     "output_type": "stream",
     "text": [
      "6950 6951 6950 6951\n",
      "Accuracy: 0.7221982448568551\n"
     ]
    }
   ],
   "source": [
    "\n",
    "# select the features and target variable\n",
    "# features = ['team_one_name', 'team_two_name','map_name', 'map_winner', 'map_loser', 'winning_team_final_map_score', 'losing_team_final_map_score']\n",
    "features = ['team_one_name', 'team_two_name', 'map_name']\n",
    "target = 'map_winner'\n",
    "\n",
    "categorized_df = categorize_df(df)\n",
    "\n",
    "# split the data into training and testing sets\n",
    "X_train, X_test, y_train, y_test = train_test_split(categorized_df[features], categorized_df[target], test_size=0.5, random_state=42)\n",
    "\n",
    "print(len(X_train), len(X_test), len(y_train), len(y_test))\n",
    "\n",
    "# create a decision tree classifier\n",
    "estimator = DecisionTreeClassifier()\n",
    "\n",
    "# fit the model on the training data\n",
    "estimator.fit(X_train, y_train)\n",
    "\n",
    "# make predictions on the testing data\n",
    "y_pred = estimator.predict(X_test)\n",
    "\n",
    "# evaluate the accuracy of the model\n",
    "accuracy = accuracy_score(y_test, y_pred)\n",
    "print(f\"Accuracy: {accuracy}\")"
   ],
   "metadata": {
    "collapsed": false
   }
  },
  {
   "cell_type": "code",
   "execution_count": 7,
   "outputs": [
    {
     "name": "stdout",
     "output_type": "stream",
     "text": [
      "      team_one_name  team_two_name  map_winner\n",
      "3                10             14          10\n",
      "6                10             14          10\n",
      "9                10             14          10\n",
      "200               8              3           3\n",
      "450               9              1           1\n",
      "780              17              9           9\n",
      "1600             14             13          14\n",
      "[10 10 10  3  1  9 13]\n"
     ]
    }
   ],
   "source": [
    "to_test = categorized_df.loc[[3, 6, 9, 200, 450, 780, 1600]]\n",
    "\n",
    "print(to_test[['team_one_name', 'team_two_name', 'map_winner']])\n",
    "# test_df = pd.DataFrame(df[features])\n",
    "# test_df = categorize_df(test_df)\n",
    "\n",
    "prediction = estimator.predict(to_test[features])\n",
    "print(prediction)\n",
    "# for map_winner_id in prediction:\n",
    "#     print(map_winner_id)\n",
    "#     print(f\"Winner is {get_map_winner_name(map_winner_id)}\")\n"
   ],
   "metadata": {
    "collapsed": false
   }
  },
  {
   "cell_type": "code",
   "execution_count": 7,
   "outputs": [],
   "source": [],
   "metadata": {
    "collapsed": false
   }
  },
  {
   "cell_type": "markdown",
   "source": [
    "# **Stage 2**\n",
    "\n",
    "Justification for the property that you would like the model to predict."
   ],
   "metadata": {
    "id": "ZYY0zY7l60al"
   }
  },
  {
   "cell_type": "code",
   "source": [],
   "metadata": {
    "id": "xnK73v7R688t"
   },
   "execution_count": 7,
   "outputs": []
  },
  {
   "cell_type": "markdown",
   "source": [
    "# **Stage 3**\n",
    "\n",
    "Cleaning the data, linking datasets etc.. \n",
    "\n"
   ],
   "metadata": {
    "id": "OeanY09K69Le"
   }
  },
  {
   "cell_type": "code",
   "source": [],
   "metadata": {
    "id": "XMIxIidZhMGl"
   },
   "execution_count": 7,
   "outputs": []
  },
  {
   "cell_type": "markdown",
   "source": [
    "# **Stage 4**\n",
    "Choose and train Estimator."
   ],
   "metadata": {
    "id": "QOZ3KnxR7QCs"
   }
  },
  {
   "cell_type": "code",
   "source": [],
   "metadata": {
    "id": "WxOtxpYLhM05"
   },
   "execution_count": 7,
   "outputs": []
  },
  {
   "cell_type": "markdown",
   "source": [
    "# **Stage 5**\n",
    "Evaluate your model and revisit 4...repeat.."
   ],
   "metadata": {
    "id": "ZIz-Ez-sgsQe"
   }
  },
  {
   "cell_type": "code",
   "source": [],
   "metadata": {
    "id": "tUJT-BYqhNie"
   },
   "execution_count": 7,
   "outputs": []
  },
  {
   "cell_type": "markdown",
   "source": [
    "# **Stage 6**\n",
    "***Present results and Conclusions***\n",
    "\n"
   ],
   "metadata": {
    "id": "4APZXYxS7Yef"
   }
  },
  {
   "cell_type": "markdown",
   "source": [],
   "metadata": {
    "id": "joNaHiMMhO6V"
   }
  }
 ],
 "metadata": {
  "interpreter": {
   "hash": "31f2aee4e71d21fbe5cf8b01ff0e069b9275f58929596ceb00d14d90e3e16cd6"
  },
  "kernelspec": {
   "display_name": "Python 3.6.9 64-bit",
   "language": "python",
   "name": "python3"
  },
  "language_info": {
   "codemirror_mode": {
    "name": "ipython",
    "version": 3
   },
   "file_extension": ".py",
   "mimetype": "text/x-python",
   "name": "python",
   "nbconvert_exporter": "python",
   "pygments_lexer": "ipython3",
   "version": "3.6.9"
  },
  "orig_nbformat": 4,
  "colab": {
   "provenance": []
  }
 },
 "nbformat": 4,
 "nbformat_minor": 0
}
