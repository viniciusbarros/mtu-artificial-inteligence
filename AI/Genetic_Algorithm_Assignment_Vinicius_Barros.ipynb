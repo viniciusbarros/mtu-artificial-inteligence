{
  "nbformat": 4,
  "nbformat_minor": 0,
  "metadata": {
    "colab": {
      "provenance": []
    },
    "kernelspec": {
      "name": "python3",
      "display_name": "Python 3"
    },
    "language_info": {
      "name": "python"
    }
  },
  "cells": [
    {
      "cell_type": "markdown",
      "source": [
        "# Genetic Algorithm Assignment 1\n",
        "- Student Name: **Vinicius Moura Barros**\n",
        "- Student Number: **T00244396**\n",
        "\n",
        "30% of the overall grade for this module\n",
        "\n",
        "Marks indciated in sections below are based on percentage of marks allocated for this module\n",
        "\n",
        "In this assignment you must choose a problem, and attempt to use the Genetic Alogrithm that we developed in class to solve this problem.\n",
        "\n",
        "\n",
        "\n"
      ],
      "metadata": {
        "id": "UuU23he_msf6"
      }
    },
    {
      "cell_type": "code",
      "source": [
        "# Imports required for the assigment\n",
        "import math\n",
        "import random\n",
        "from abc import abstractmethod\n",
        "from copy import deepcopy\n",
        "from dataclasses import dataclass\n",
        "from typing import Any, Optional"
      ],
      "metadata": {
        "id": "gTqnkqTcZNUi"
      },
      "execution_count": 1,
      "outputs": []
    },
    {
      "cell_type": "markdown",
      "source": [
        "## The Problem         **(~30%)**\n",
        "\n"
      ],
      "metadata": {
        "id": "xOpdeYD9oLWi"
      }
    },
    {
      "cell_type": "markdown",
      "source": [
        "---\n",
        "\n",
        "The theme for this problem is a video game character building. The objective of the game, is to build a character (or just \"char\" or individual) that has the capabilities of defeating a given boss. The boss, is also a character, but with pre-defined attributes. We'll use Generic Algorithms to solve this selection problem.\n",
        "\n",
        "### Character Attributes\n",
        "Each character (including the boss) has 4 attributes:\n",
        "- **Health Points (HP)**: Integer amount that represents life points of the character\n",
        "- **Strenght (STR)**: The amount of damage the character deals when attacking\n",
        "- **Defense (DEF)**: The amount of damage avoided, should the character gets attacked\n",
        "- **Healing (HEAL)**: The amount of recovered HP after each turn\n",
        "\n",
        "Each character starts with 20 points, which should be distributed between the 4 possible attributes. Exemple:\n",
        "- Character 1: 5 HP, 5 STR, 5 DEF, 5 HEAL\n",
        "- Character 2: 15 HP, 5 STR, 0 DEF, 0 HEAL\n",
        "- Character 3: 1 HP, 19 STR, 0 DEF, 0 HEAL\n",
        "- Character 4: 1 HP, 1 STR, 18 DEF, 0 HEAL\n",
        "\n",
        "Constraints: \n",
        "- Each character should have at least 1 point in HP (or as defined in the problem)\n",
        "- The sum of the stats of each character (except the boss) should be exactly 20 stats point (or as defined in the problem)\n",
        "\n",
        "### Battle System\n",
        "The battle system is based on turns, following the order:\n",
        "\n",
        "- The character attacks the boss \n",
        "  - The boss will have its HP deducted\n",
        "  - If the boss HP is gets equal or below 0, the character wins the game\n",
        "- The boss attacks the character\n",
        "  - The character will have its HP deducted\n",
        "  - If the character HP is gets equal or below 0, the character loses the game\n",
        "- The healing effect is triggered for the character and for the boss\n",
        "- Repeat the process until character wins or loses game (or after 50 rounds) also considered a loss for the character.\n",
        "\n",
        "---\n",
        "\n"
      ],
      "metadata": {
        "id": "4uQ4i7aopwP0"
      }
    },
    {
      "cell_type": "markdown",
      "source": [
        "##   Discussion of the suitablity of Genetic Algorithms\n"
      ],
      "metadata": {
        "id": "rWvzNi3uqCKy"
      }
    },
    {
      "cell_type": "markdown",
      "source": [
        "---\n",
        "\n",
        "The genetic algorithm here is used to find what's the potential best combination of attributes for a character to have, so it can win a match against a boss. \n",
        "As there are multiple potential combinations of HP, STR, DEF and HEAL, the genetics algorithm seems appropriate to randomly find a combination that seems to fit and keep evolving it until a most appropriate combination is found. \n",
        "\n",
        "---\n",
        "\n"
      ],
      "metadata": {
        "id": "aMzEaqZAqmYT"
      }
    },
    {
      "cell_type": "markdown",
      "source": [
        "# The problem and the cost function   **(~20%)**"
      ],
      "metadata": {
        "id": "0LgfBTtdq11F"
      }
    },
    {
      "cell_type": "code",
      "source": [
        "class Problem:\n",
        "  def __init__(self, boss):\n",
        "    self.max_stats_points = 20\n",
        "    self.max_fight_rounds = 50\n",
        "    self.min_hp = 1\n",
        "    self.boss = boss\n",
        "\n",
        "  def generate_random_stats(self):\n",
        "    \"\"\"\n",
        "    As the name suggests, this method generates random attributes\n",
        "    that can be used to create a new invididual\n",
        "    \"\"\"\n",
        "    # we need to make sure elements have at least 1 HP\n",
        "    stats = [1, 0, 0, 0]  # HP, STR, DEF, HEAL\n",
        "    for _ in range(self.max_stats_points -1): # -1 because of rule of min 1 HP\n",
        "      stats[random.choice([0,1,2,3])] += 1\n",
        "\n",
        "    return {\n",
        "        'hp': stats[0],\n",
        "        'strength': stats[1],\n",
        "        'defense': stats[2],\n",
        "        'healing': stats[3],\n",
        "    }\n",
        "\n",
        "  def gen_2_random_unique(self, min, max):\n",
        "    \"\"\"\n",
        "    This method generated 2 random unique numbers, used to randomly find \n",
        "    parents for a new individual\n",
        "    \"\"\"\n",
        "    n1 = random.randint(min, max)\n",
        "    n2 = n1\n",
        "    while n2 == n1:\n",
        "      n2 = random.randint(min, max)\n",
        "\n",
        "    return n1, n2\n",
        "    \n",
        "  def cost_function(self, fight):\n",
        "    \"\"\"\n",
        "    This is the function that will calculate how fit an individual is.\n",
        "    Basically it gets the result of a fight as a parameter to calculate \n",
        "    the cost of this individual.\n",
        "\n",
        "    Example of expected output of a fight:\n",
        "    { \n",
        "      'is_victory': bool,\n",
        "      'rounds': int,\n",
        "      'reason': str,\n",
        "      'char': {'hp': -1, 'max_hp': 5, 'strength': 6, 'defense': 3, 'healing': 6},\n",
        "      'boss': {'hp': 17, 'max_hp': 20, 'strength': 9, 'defense': 3, 'healing': 2}\n",
        "    }\n",
        "    \n",
        "    The Best individual is the one that:\n",
        "    - wins the fight against the boss\n",
        "    - takes less rounds to win\n",
        "    - or if individual loses, the one that deals more damage to the boss is considered better\n",
        "\n",
        "    Mathematically, the cost can be represented as:\n",
        "    (0 points per win) + (1000 points per loss) + num rounds + remaining boss HP\n",
        "    The fittest will be the one w/ the lowest value\n",
        "    \"\"\"\n",
        "   \n",
        "    victory_points = 0 if fight['is_victory'] else 1000\n",
        "    return fight['rounds'] + fight['boss']['hp'] + victory_points"
      ],
      "metadata": {
        "id": "rwIdSMNqrPS5"
      },
      "execution_count": null,
      "outputs": []
    },
    {
      "cell_type": "markdown",
      "source": [
        "# The Individual **(~30%)**\n",
        "\n",
        "\n",
        "*   Chromosone\n",
        "*   Crossover\n",
        "*   Mutation\n",
        "\n",
        "\n"
      ],
      "metadata": {
        "id": "wBQQjO4brWFA"
      }
    },
    {
      "cell_type": "markdown",
      "source": [
        "## Discussion and justification on the approaches taken for the above"
      ],
      "metadata": {
        "id": "-Yr5xlW3rx21"
      }
    },
    {
      "cell_type": "markdown",
      "source": [
        "---\n",
        "\n",
        "## Chromosome\n",
        "The \"Chromosome\" of each individual is essentially the combination of its stats: hp, str, def and heal. There are some constraints to be followed for these stats:\n",
        "- Each of these values has to be an integer\n",
        "- the HP stats can not be lower than `Problem.min_hp` (Default to 1)\n",
        "- the sum of all stats can not exceed `Problem.max_stats_points` (Default to 20)\n",
        "\n",
        "## Crossover\n",
        "The crossover to be applied is the \"Arithmetic Crossover\". It will be applied by combining the genetic material from the parents, calculating average values and if necessary, randomly increasing/decreasing stats until individual complies with constrainght of defined number of stats points.\n",
        "The crossover can be found in classmethod `from_parents()`, which essentially generates a new individual based on the 2 individuals provided.\n",
        "\n",
        "*Note: This final solution wasn't the one I started with. I started w/ suggestion seen in class, but the values for each individual requires integer values, it didn't fit for purpose.*\n",
        "\n",
        "\n",
        "## Mutation\n",
        "Mutation will be applied by randomly, and at a given chance, adding/removing from one stat and removing/adding to another stat.\n",
        "\n",
        "---\n",
        "\n"
      ],
      "metadata": {
        "id": "-5eIa-LKsREQ"
      }
    },
    {
      "cell_type": "code",
      "execution_count": null,
      "metadata": {
        "id": "Hqtg_3MimjYL"
      },
      "outputs": [],
      "source": [
        "@dataclass\n",
        "class Individual: \n",
        "  hp: int # health points\n",
        "  strength: int\n",
        "  defense: int\n",
        "  healing: int\n",
        "  problem: Optional[Any] = None\n",
        "  is_boss: Optional[bool] = False\n",
        "  cost: Optional[int] = None\n",
        "\n",
        "  @classmethod\n",
        "  def randonly_generated(cls, problem):\n",
        "    new = cls(**problem.generate_random_stats(), problem=problem)\n",
        "    return new\n",
        "\n",
        "  # Initial implementation of crossover\n",
        "  # which didn't work quite well for this solution\n",
        "  # def from_parents(cls, prob:Problem, parent1, parent2, explore_rate_crossover):\n",
        "  #   \"\"\"\n",
        "  #   This is the crossover function\n",
        "  #   \"\"\"\n",
        "  #   alpha = random.uniform(-explore_rate_crossover, 1+explore_rate_crossover)\n",
        "  #   attrs = ['hp', 'strength', 'defense', 'healing']\n",
        "  #   child_attrs = {}\n",
        "  #   for attr in attrs:\n",
        "  #     child_attrs[attr] = round((alpha * getattr(parent1, attr)) + ((1-alpha) * getattr(parent2, attr)), 0)\n",
        "  #   child = cls(**child_attrs, problem=problem)\n",
        "  #   return child\n",
        "\n",
        "  @classmethod\n",
        "  def nivellate_stats(cls, char_stats:dict, prob:Problem):\n",
        "    \"\"\"\n",
        "    Given a dict of char_stats and prob, \n",
        "    Make sure that provided stats are according to problem constraints.\n",
        "    For that, chars can randomly be modified by added/removed stats \n",
        "    \"\"\"\n",
        "    attrs = ['hp', 'strength', 'defense', 'healing']\n",
        "    \n",
        "    # ensuring min hp constraint\n",
        "    if char_stats['hp'] < prob.min_hp:\n",
        "      char_stats['hp'] = prob.min_hp\n",
        "\n",
        "    attrs_sum = sum(char_stats.values())\n",
        "    while attrs_sum != prob.max_stats_points:\n",
        "\n",
        "      # remove == -1 and add == +1\n",
        "      add_or_remove = -1 if attrs_sum > prob.max_stats_points else 1\n",
        "\n",
        "      # picking a random attr to be updated\n",
        "      random_attr = random.choice(attrs)\n",
        "\n",
        "      # if subtracting, we need to make sure no stat go below 0\n",
        "      if add_or_remove == -1 and char_stats[random_attr] == 0:\n",
        "          continue\n",
        "\n",
        "      # We also need to check if HP is always above problem.min_hp\n",
        "      if add_or_remove == -1 and random_attr == 'hp' and char_stats[random_attr] == prob.min_hp:\n",
        "          continue\n",
        "\n",
        "      # add or remove from random attr\n",
        "      char_stats[random_attr] += add_or_remove\n",
        "\n",
        "      # calculate sum of attrs again to break loop\n",
        "      attrs_sum = sum(char_stats.values())  \n",
        "      \n",
        "    return char_stats\n",
        "\n",
        "  @abstractmethod\n",
        "  def mutate_stats(stats:dict, prob:Problem, params):\n",
        "    \"\"\"\n",
        "    This abstractmethod receives a dict of stats, the problem definition \n",
        "    and the genetics params.\n",
        "    It loops through all stats, and by the chance of the probabily of params.mutation_rate,\n",
        "    it also by chance increase or decrease it's value by params.range_of_mutation (default to 1).\n",
        "    \n",
        "    At the end, to make sure the char stats are still compliant w/ the constraints,\n",
        "    we call `nivellate_stats()`.\n",
        "\n",
        "    \"\"\"\n",
        "    for attr in stats.keys():\n",
        "      luck = random.uniform(0, 1)\n",
        "      # Checking if individual was lucky to be mutated\n",
        "\n",
        "      if luck < params.mutation_rate:\n",
        "        # eg: 1 or -1\n",
        "        add_or_remove = random.choice([params.range_of_mutation, -1 *params.range_of_mutation])\n",
        "        stats[attr] += add_or_remove\n",
        "        # Making sure mutation doesn't make negative stats\n",
        "        if add_or_remove < 0 and (stats[attr] + add_or_remove) < 0:\n",
        "          continue  \n",
        "        # Making sure mutation does not produce chars that break problem constraint of min_hp \n",
        "        elif attr == 'hp' and add_or_remove < 0 and (stats[attr] + add_or_remove) < prob.min_hp:\n",
        "          continue\n",
        "\n",
        "      return Individual.nivellate_stats(stats, prob)\n",
        "\n",
        "\n",
        "  @classmethod\n",
        "  def from_parents(cls, prob:Problem, parent1, parent2, params):\n",
        "    \"\"\"\n",
        "    This is the crossover function\n",
        "    The child is a combination of values from parent1 and parent2.\n",
        "    If combination of values exceeds problem.max_stats_points, stats are randomly \n",
        "    added or subtracted until constraint is satisfied.\n",
        "\n",
        "    After that, child's attributes are mutated \n",
        "    \"\"\"\n",
        "    attrs = ['hp', 'strength', 'defense', 'healing']\n",
        "    child_attrs = {}\n",
        "\n",
        "    # Creating average value of parents for child attributes\n",
        "    for attr in attrs:\n",
        "      child_attrs[attr] = math.ceil((getattr(parent1, attr) + getattr(parent2, attr)) /2)\n",
        "\n",
        "    child_attrs = Individual.nivellate_stats(child_attrs, prob)\n",
        "      \n",
        "    # run mutation\n",
        "    child_attrs = Individual.mutate_stats(child_attrs, prob, params)\n",
        "  \n",
        "    child = cls(**child_attrs, problem=prob)\n",
        "    return child\n",
        "  \n",
        "  def __post_init__(self):\n",
        "      \"\"\"\n",
        "      The __post_init__ method is called after objects of type dataclasses are instantiated.\n",
        "      We'll use it to make sure:\n",
        "      - we don't create individuals that break problem constraint of min HP\n",
        "      - we don't create individuals that break problem constraint of max stat points (unless it is a boss)\n",
        "      We'll also use it to calculate the cost/fitness of every individual, as soon as it is instantiated.\n",
        "      \"\"\"\n",
        "      \n",
        "      # define max HP to avoid healing more than health\n",
        "      self.max_hp = self.hp \n",
        "      self.sum_attrs = self.hp + self.strength + self.defense + self.healing\n",
        "\n",
        "      if not self.is_boss:\n",
        "        if self.hp < self.problem.min_hp:\n",
        "          print(self)\n",
        "          raise Exception(f\"This character must have a min of {self.problem.min_hp} HP\")\n",
        "        \n",
        "        if self.sum_attrs > self.problem.max_stats_points:\n",
        "          raise Exception(f\"This character exceeds the max number {self.sum_attrs}/({self.problem.max_stats_points}) of stats: {self.get_status()}\")\n",
        "\n",
        "        self.update_cost()\n",
        "\n",
        "        \n",
        "  def get_status(self): \n",
        "      return {\n",
        "          'sum_stats': self.sum_attrs,\n",
        "          'hp': self.hp,\n",
        "          'max_hp': self.max_hp,\n",
        "          'strength': self.strength,\n",
        "          'defense': self.defense,\n",
        "          'healing': self.healing,\n",
        "          'cost': self.cost\n",
        "      }\n",
        "\n",
        "  def get_game_stats(self):\n",
        "    \"\"\"\n",
        "    This method returns Individual stats in a more friendly way,\n",
        "    to make the visualization of the example Individual more appealing \n",
        "    by using emojis to represent stats in a formated string.\n",
        "    Eg: [🩸38/50|⚔️6|🛡️5|🩹4]\n",
        "\n",
        "    \"\"\"\n",
        "    stats = [\n",
        "        f'🩸{self.hp}/{self.max_hp}',\n",
        "        f'⚔️{self.strength}',\n",
        "        f'🛡️{self.defense}',\n",
        "        f'🩹{self.healing}',\n",
        "    ]\n",
        "    return f\"[{'|'.join(stats)}]\"\n",
        "\n",
        "\n",
        "  def self_heal(self):\n",
        "    \"\"\"\n",
        "    Applies healing to an individual, making sure it never exceeds the max_hp\n",
        "    \"\"\"\n",
        "    self.hp = min(self.hp + self.healing, self.max_hp)\n",
        "\n",
        "  def reset_hp(self):\n",
        "    \"\"\"\n",
        "    Resets chars HP. Useful for the boss, who fights many battles!\n",
        "    \"\"\"\n",
        "    self.hp = self.max_hp\n",
        "\n",
        "  def attack(self, target):\n",
        "    \"\"\"\n",
        "    Used to perform an attack on an given target.\n",
        "    The damage is the positive difference between atacker strength - target defense\n",
        "    \"\"\"\n",
        "    damage = self.strength - target.defense\n",
        "    if damage > 0:\n",
        "      target.hp -= damage\n",
        "\n",
        "  def battle_log(self, message:str, output=False):\n",
        "    \"\"\"\n",
        "    This method is only a helper to print a message in relation to the battle.\n",
        "    Make sure that output is False to avoid unecessary messages when running the \n",
        "    genetics algorithm.\n",
        "    \"\"\"\n",
        "\n",
        "    if output:\n",
        "      print(f\"Battle Log: {message}\")\n",
        "  \n",
        "  def fight(self, boss, output=False):\n",
        "    \"\"\"\n",
        "    This method represents the actual battle between an individual and a given boss.\n",
        "    The battle system is based on turns, following the order:\n",
        "\n",
        "    - The character atacks the boss\n",
        "      - The boss will have its HP deducted\n",
        "      - If the boss HP is gets equal or below 0, the character wins the game\n",
        "    - The boss atacks the character\n",
        "      - The character will have its HP deducted\n",
        "      - If the character HP is gets equal or below 0, the character loses the game\n",
        "    - The healing effect is triggered for the character and for the boss\n",
        "    - repeat the process until character wins or loses game (or after reaching problem.max_fight_rounds) \n",
        "    also considered a technical loss for the character.\n",
        "    \"\"\"\n",
        "\n",
        "    round_number = 1\n",
        "    victory = False\n",
        "    reason = None\n",
        "    self.battle_log(f\"The Boss {boss.get_game_stats()} has a new challanger!\", output)\n",
        "    self.battle_log(f\"The Challanger is {self.get_game_stats()}\", output)\n",
        "\n",
        "    while True:\n",
        "      self.battle_log(f\"Round {round_number}... Fight!\", output)\n",
        "      # char atacks boss\n",
        "      self.battle_log(f\"Char attacks boss!\", output)\n",
        "      self.attack(boss)\n",
        "      self.battle_log(f\"Boss: {boss.get_game_stats()}\", output)\n",
        "      if boss.hp <= 0: # boss lost\n",
        "        reason = 'boss died'\n",
        "        victory = True\n",
        "        self.battle_log(f\"Boss has died! Char wins!\", output)\n",
        "        break\n",
        "\n",
        "      # boss atacks char\n",
        "      self.battle_log(f\"Boss attacks char!\", output)\n",
        "      boss.attack(self)\n",
        "      self.battle_log(f\"Char: {self.get_game_stats()}\", output)\n",
        "      if self.hp <= 0: # char lost\n",
        "        reason = 'char died'\n",
        "        self.battle_log(f\"Char has died! Boss wins!\", output)\n",
        "        break\n",
        "\n",
        "      self.battle_log(f\"Both of them heal themselves!\", output)\n",
        "      self.self_heal()\n",
        "      boss.self_heal()\n",
        "      self.battle_log(f\"Char {self.get_game_stats()} VS Boss {boss.get_game_stats()}\", output)\n",
        "\n",
        "      if round_number == self.problem.max_fight_rounds:\n",
        "        reason = 'technical loss'\n",
        "        self.battle_log(f\"Char took to long to win... Technical loss, boss wins!\", output)\n",
        "        break\n",
        "      else:\n",
        "        round_number += 1\n",
        "\n",
        "    result = {\n",
        "        'is_victory': victory,\n",
        "        'rounds': round_number,\n",
        "        'reason': reason, \n",
        "        'char': self.get_status(),\n",
        "        'boss': boss.get_status()\n",
        "    }\n",
        "    self.reset_hp()\n",
        "    boss.reset_hp()\n",
        "\n",
        "    return result\n",
        "    \n",
        "  def update_cost(self):\n",
        "    \"\"\"\n",
        "    it simulates a fight agains the boss, and the result is used as an input for\n",
        "    the problem.cost_function().\n",
        "    \"\"\"\n",
        "    fight_result = self.fight(self.problem.boss)\n",
        "    self.cost = self.problem.cost_function(fight_result)\n",
        "\n",
        "  \n"
      ]
    },
    {
      "cell_type": "markdown",
      "source": [
        "### Defining the Boss & Problem\n",
        "In the next cell we're going to define the Boss, which will be used also to define the problem."
      ],
      "metadata": {
        "id": "vNIKSsK0wCCJ"
      }
    },
    {
      "cell_type": "code",
      "source": [
        "# Defining the boss and problem\n",
        "boss = Individual(hp=50, strength=6, healing=4, defense=5, is_boss=True)\n",
        "problem = Problem(boss)"
      ],
      "metadata": {
        "id": "E6uRR0f-4CwE"
      },
      "execution_count": null,
      "outputs": []
    },
    {
      "cell_type": "markdown",
      "source": [
        "## Running the algorithm  **(~10%)**\n",
        "\n",
        "\n",
        "\n"
      ],
      "metadata": {
        "id": "59WmNNhiscZ9"
      }
    },
    {
      "cell_type": "markdown",
      "source": [
        "---\n",
        "\n",
        "### Parameter choices\n",
        "After many runs, it has been observed that usually the best individual has been found before 300 generations using the following parameters:\n",
        "```\n",
        "self.population_size = 1000\n",
        "self.number_of_generations = 500\n",
        "self.child_rate = 0.5\n",
        "self.mutation_rate = 0.2\n",
        "self.range_of_mutation = 1\n",
        "```\n",
        "However, only a few variations of bosses were experimented. So, despite the fact that, for most runs, the algorithm could be running unnecessarily, it was decided to leave it with 500 generations should a more harder to solve problem be inputted as input.\n",
        "\n",
        "### Modifications (if any) to run_genetic\n",
        "\n",
        "- As it was opted to do crossover by calculating the average of the stats of the parents, then nivellating the values, the run_genetic was modified to generate only 1 child instead of 2 children, as otherwise they could potentially be the very same.\n",
        "\n",
        "- The `from_parents()` method from the individual already makes sure that mutation is applied during the individual \"conception\" as well as making sure that its cost is updated when the object is initiated.\n",
        "---\n",
        "\n"
      ],
      "metadata": {
        "id": "n8BK_jFwub_j"
      }
    },
    {
      "cell_type": "code",
      "source": [
        "class Parameters:\n",
        "  def __init__(self) -> None:\n",
        "    self.population_size = 1000\n",
        "    self.number_of_generations = 500\n",
        "    self.child_rate = 0.5\n",
        "    self.mutation_rate = 0.2\n",
        "    self.range_of_mutation = 1\n",
        "\n",
        "params = Parameters()"
      ],
      "metadata": {
        "id": "qYE-UMBos_nR"
      },
      "execution_count": null,
      "outputs": []
    },
    {
      "cell_type": "code",
      "source": [
        "def run_genetic(problem:Problem, params:Parameters):\n",
        "  # read the problem\n",
        "  cost_function = problem.cost_function\n",
        "  # read parameters\n",
        "  current_population_size = params.population_size\n",
        "  num_children = params.child_rate * current_population_size\n",
        "  mutation_rate = params.mutation_rate\n",
        "\n",
        "  # setting best solution\n",
        "  best_solutions = []\n",
        "  best_solution = None\n",
        "\n",
        "  # initialise population\n",
        "  # population = [Individual(problem) for _ in range(params.population_size)]\n",
        "  population = []\n",
        "  for _ in range(current_population_size):\n",
        "    new = Individual.randonly_generated(problem)\n",
        "    population.append(new)\n",
        "    if best_solution is None or new.cost < best_solution.cost:\n",
        "      best_solution = deepcopy(new)\n",
        "      best_solutions.append(best_solution)\n",
        "\n",
        "  print(f\"Created population of {len(population)} elements\")\n",
        "  print(f\"Best solution so far has cost of {best_solution.cost}\")\n",
        " \n",
        "  # Generation Loop:\n",
        "  for generation in range(params.number_of_generations):\n",
        "    if (generation+1) % 100 == 0:\n",
        "      print(f\"Generation {generation+1}\")\n",
        "    children = []\n",
        "    while len(children) < num_children:\n",
        "      # randomly choosing parents\n",
        "      p1, p2 = problem.gen_2_random_unique(0, len(population)-1)\n",
        "      parent1, parent2 = population[p1], population[p2]\n",
        "      \n",
        "      # let's make some children!\n",
        "      # Note: The from_parents() method automatically does the mutation \n",
        "      # and also makes sure that the cost of the Invidividual is updated.\n",
        "      child1 = Individual.from_parents(problem, parent1, parent2, params)\n",
        "        \n",
        "      # add children to population\n",
        "      children.extend([child1])\n",
        "      # children.extend([child1, child2])\n",
        "\n",
        "      # get cost of children (updated on mutation)\n",
        "\n",
        "    # sort and cull population\n",
        "    population.extend(children)\n",
        "    population = sorted(population, key = lambda x: x.cost)\n",
        "    population = population[:current_population_size]\n",
        "     \n",
        "    if population[0].cost < best_solution.cost:\n",
        "      best_solution = deepcopy(population[0])\n",
        "      best_solutions.append(best_solution)\n",
        "      print(f\"Found best solution in generation {generation+1}! {best_solution.cost}\")\n",
        "\n",
        "  print(f\"In the end, best solution has cost of  {best_solution.cost}\")\n",
        "  \n",
        "  return population, best_solution, best_solutions"
      ],
      "metadata": {
        "id": "uMURavCWtEan"
      },
      "execution_count": null,
      "outputs": []
    },
    {
      "cell_type": "code",
      "source": [
        "population, best_solution, best_solutions_over_time = run_genetic(problem, params)"
      ],
      "metadata": {
        "colab": {
          "base_uri": "https://localhost:8080/"
        },
        "id": "IK_8mMwCREIC",
        "outputId": "5477695a-0bc3-421a-aa25-b5a6f9a97a79"
      },
      "execution_count": null,
      "outputs": [
        {
          "output_type": "stream",
          "name": "stdout",
          "text": [
            "Created population of 1000 elements\n",
            "Best solution so far has cost of 1044\n",
            "Found best solution in generation 32! 46\n",
            "Found best solution in generation 44! 23\n",
            "Generation 100\n",
            "Generation 200\n",
            "Found best solution in generation 210! 14\n",
            "Found best solution in generation 243! 10\n",
            "Generation 300\n",
            "Generation 400\n",
            "Generation 500\n",
            "In the end, best solution has cost of  10\n"
          ]
        }
      ]
    },
    {
      "cell_type": "markdown",
      "source": [
        "## Results and conclusions    **(~10%)**"
      ],
      "metadata": {
        "id": "Hupr4W2_tmZA"
      }
    },
    {
      "cell_type": "markdown",
      "source": [
        "---\n",
        "\n",
        "This implementation of genetic algorithm has the objective of finding an individual with the best cost (fitness), which in this case was a character capable of defeating or at least causing more damage to a pre-defined boss. It uses a simplified, but similar principle of natural selection and genetics. \n",
        "\n",
        "The algorithm was capable of randomly generating a popupulation of individuals, generating new children, and only keeping the most fitest ones, which leads to the potentially most effective individual over the generations.\n",
        "\n",
        "It is impressive to vizualise that from a problem \"How can I create a individual that can defeat a boss?\", a solution was found programmatically without any direct \"clues\", except by keeping the most fittest ones and evolving from them.\n",
        "\n",
        "By working with characteristics that were not as straight forward as a list of genes, this exercise was efficient on teach me how genetic algorithms are powerful and can be used for a variety of problems.\n",
        "\n",
        "---\n",
        "\n",
        "In the next cells you can see more details about:\n",
        "- the best solution\n",
        "- how \"best\" individuals changed over the generations\n",
        "- and a replay of a fight between the best solution and the boss\n",
        "\n"
      ],
      "metadata": {
        "id": "p0Yqo3GeuVtn"
      }
    },
    {
      "cell_type": "code",
      "source": [
        "# Let's see the best invidivual\n",
        "print(best_solution)"
      ],
      "metadata": {
        "colab": {
          "base_uri": "https://localhost:8080/"
        },
        "id": "uSrU-qLPOhXS",
        "outputId": "2c875ed9-8107-4d06-f643-aae3347f0471"
      },
      "execution_count": null,
      "outputs": [
        {
          "output_type": "stream",
          "name": "stdout",
          "text": [
            "Individual(hp=1, strength=13, defense=6, healing=0, problem=<__main__.Problem object at 0x7fee1058c820>, is_boss=False, cost=10)\n"
          ]
        }
      ]
    },
    {
      "cell_type": "code",
      "source": [
        "# Let's see the evolution of the best individuals\n",
        "for i in best_solutions_over_time:\n",
        "  print(i)"
      ],
      "metadata": {
        "colab": {
          "base_uri": "https://localhost:8080/"
        },
        "id": "zcolce7Ioqo-",
        "outputId": "843683d0-afb8-437f-86ef-93977da5ba61"
      },
      "execution_count": null,
      "outputs": [
        {
          "output_type": "stream",
          "name": "stdout",
          "text": [
            "Individual(hp=8, strength=4, defense=2, healing=6, problem=<__main__.Problem object at 0x7fee105a0f10>, is_boss=False, cost=1100)\n",
            "Individual(hp=7, strength=8, defense=2, healing=3, problem=<__main__.Problem object at 0x7fee105a08e0>, is_boss=False, cost=1051)\n",
            "Individual(hp=3, strength=7, defense=2, healing=8, problem=<__main__.Problem object at 0x7fee10578eb0>, is_boss=False, cost=1049)\n",
            "Individual(hp=4, strength=8, defense=2, healing=6, problem=<__main__.Problem object at 0x7fee1058fdf0>, is_boss=False, cost=1048)\n",
            "Individual(hp=4, strength=9, defense=2, healing=5, problem=<__main__.Problem object at 0x7fee10591c10>, is_boss=False, cost=1047)\n",
            "Individual(hp=5, strength=11, defense=2, healing=2, problem=<__main__.Problem object at 0x7fee10543340>, is_boss=False, cost=1044)\n",
            "Individual(hp=4, strength=10, defense=3, healing=3, problem=<__main__.Problem object at 0x7fee105662b0>, is_boss=False, cost=46)\n",
            "Individual(hp=3, strength=11, defense=4, healing=2, problem=<__main__.Problem object at 0x7fee10571430>, is_boss=False, cost=23)\n",
            "Individual(hp=2, strength=12, defense=5, healing=1, problem=<__main__.Problem object at 0x7fee1055a670>, is_boss=False, cost=14)\n",
            "Individual(hp=1, strength=13, defense=6, healing=0, problem=<__main__.Problem object at 0x7fee1058c820>, is_boss=False, cost=10)\n"
          ]
        }
      ]
    },
    {
      "cell_type": "code",
      "source": [
        "# Let's replay the battle between the best char vs the boss\n",
        "battle_summary = best_solution.fight(problem.boss, output=True)"
      ],
      "metadata": {
        "colab": {
          "base_uri": "https://localhost:8080/"
        },
        "id": "jbP7VMJwou-D",
        "outputId": "5c519de5-c83e-4cfe-80a3-ff5ac9791a86"
      },
      "execution_count": null,
      "outputs": [
        {
          "output_type": "stream",
          "name": "stdout",
          "text": [
            "Battle Log: The Boss [🩸50/50|⚔️6|🛡️5|🩹4] has a new challanger!\n",
            "Battle Log: The Challanger is [🩸1/1|⚔️13|🛡️6|🩹0]\n",
            "Battle Log: Round 1... Fight!\n",
            "Battle Log: Char attacks boss!\n",
            "Battle Log: Boss: [🩸42/50|⚔️6|🛡️5|🩹4]\n",
            "Battle Log: Boss attacks char!\n",
            "Battle Log: Char: [🩸1/1|⚔️13|🛡️6|🩹0]\n",
            "Battle Log: Both of them heal themselves!\n",
            "Battle Log: Char [🩸1/1|⚔️13|🛡️6|🩹0] VS Boss [🩸46/50|⚔️6|🛡️5|🩹4]\n",
            "Battle Log: Round 2... Fight!\n",
            "Battle Log: Char attacks boss!\n",
            "Battle Log: Boss: [🩸38/50|⚔️6|🛡️5|🩹4]\n",
            "Battle Log: Boss attacks char!\n",
            "Battle Log: Char: [🩸1/1|⚔️13|🛡️6|🩹0]\n",
            "Battle Log: Both of them heal themselves!\n",
            "Battle Log: Char [🩸1/1|⚔️13|🛡️6|🩹0] VS Boss [🩸42/50|⚔️6|🛡️5|🩹4]\n",
            "Battle Log: Round 3... Fight!\n",
            "Battle Log: Char attacks boss!\n",
            "Battle Log: Boss: [🩸34/50|⚔️6|🛡️5|🩹4]\n",
            "Battle Log: Boss attacks char!\n",
            "Battle Log: Char: [🩸1/1|⚔️13|🛡️6|🩹0]\n",
            "Battle Log: Both of them heal themselves!\n",
            "Battle Log: Char [🩸1/1|⚔️13|🛡️6|🩹0] VS Boss [🩸38/50|⚔️6|🛡️5|🩹4]\n",
            "Battle Log: Round 4... Fight!\n",
            "Battle Log: Char attacks boss!\n",
            "Battle Log: Boss: [🩸30/50|⚔️6|🛡️5|🩹4]\n",
            "Battle Log: Boss attacks char!\n",
            "Battle Log: Char: [🩸1/1|⚔️13|🛡️6|🩹0]\n",
            "Battle Log: Both of them heal themselves!\n",
            "Battle Log: Char [🩸1/1|⚔️13|🛡️6|🩹0] VS Boss [🩸34/50|⚔️6|🛡️5|🩹4]\n",
            "Battle Log: Round 5... Fight!\n",
            "Battle Log: Char attacks boss!\n",
            "Battle Log: Boss: [🩸26/50|⚔️6|🛡️5|🩹4]\n",
            "Battle Log: Boss attacks char!\n",
            "Battle Log: Char: [🩸1/1|⚔️13|🛡️6|🩹0]\n",
            "Battle Log: Both of them heal themselves!\n",
            "Battle Log: Char [🩸1/1|⚔️13|🛡️6|🩹0] VS Boss [🩸30/50|⚔️6|🛡️5|🩹4]\n",
            "Battle Log: Round 6... Fight!\n",
            "Battle Log: Char attacks boss!\n",
            "Battle Log: Boss: [🩸22/50|⚔️6|🛡️5|🩹4]\n",
            "Battle Log: Boss attacks char!\n",
            "Battle Log: Char: [🩸1/1|⚔️13|🛡️6|🩹0]\n",
            "Battle Log: Both of them heal themselves!\n",
            "Battle Log: Char [🩸1/1|⚔️13|🛡️6|🩹0] VS Boss [🩸26/50|⚔️6|🛡️5|🩹4]\n",
            "Battle Log: Round 7... Fight!\n",
            "Battle Log: Char attacks boss!\n",
            "Battle Log: Boss: [🩸18/50|⚔️6|🛡️5|🩹4]\n",
            "Battle Log: Boss attacks char!\n",
            "Battle Log: Char: [🩸1/1|⚔️13|🛡️6|🩹0]\n",
            "Battle Log: Both of them heal themselves!\n",
            "Battle Log: Char [🩸1/1|⚔️13|🛡️6|🩹0] VS Boss [🩸22/50|⚔️6|🛡️5|🩹4]\n",
            "Battle Log: Round 8... Fight!\n",
            "Battle Log: Char attacks boss!\n",
            "Battle Log: Boss: [🩸14/50|⚔️6|🛡️5|🩹4]\n",
            "Battle Log: Boss attacks char!\n",
            "Battle Log: Char: [🩸1/1|⚔️13|🛡️6|🩹0]\n",
            "Battle Log: Both of them heal themselves!\n",
            "Battle Log: Char [🩸1/1|⚔️13|🛡️6|🩹0] VS Boss [🩸18/50|⚔️6|🛡️5|🩹4]\n",
            "Battle Log: Round 9... Fight!\n",
            "Battle Log: Char attacks boss!\n",
            "Battle Log: Boss: [🩸10/50|⚔️6|🛡️5|🩹4]\n",
            "Battle Log: Boss attacks char!\n",
            "Battle Log: Char: [🩸1/1|⚔️13|🛡️6|🩹0]\n",
            "Battle Log: Both of them heal themselves!\n",
            "Battle Log: Char [🩸1/1|⚔️13|🛡️6|🩹0] VS Boss [🩸14/50|⚔️6|🛡️5|🩹4]\n",
            "Battle Log: Round 10... Fight!\n",
            "Battle Log: Char attacks boss!\n",
            "Battle Log: Boss: [🩸6/50|⚔️6|🛡️5|🩹4]\n",
            "Battle Log: Boss attacks char!\n",
            "Battle Log: Char: [🩸1/1|⚔️13|🛡️6|🩹0]\n",
            "Battle Log: Both of them heal themselves!\n",
            "Battle Log: Char [🩸1/1|⚔️13|🛡️6|🩹0] VS Boss [🩸10/50|⚔️6|🛡️5|🩹4]\n",
            "Battle Log: Round 11... Fight!\n",
            "Battle Log: Char attacks boss!\n",
            "Battle Log: Boss: [🩸2/50|⚔️6|🛡️5|🩹4]\n",
            "Battle Log: Boss attacks char!\n",
            "Battle Log: Char: [🩸1/1|⚔️13|🛡️6|🩹0]\n",
            "Battle Log: Both of them heal themselves!\n",
            "Battle Log: Char [🩸1/1|⚔️13|🛡️6|🩹0] VS Boss [🩸6/50|⚔️6|🛡️5|🩹4]\n",
            "Battle Log: Round 12... Fight!\n",
            "Battle Log: Char attacks boss!\n",
            "Battle Log: Boss: [🩸-2/50|⚔️6|🛡️5|🩹4]\n",
            "Battle Log: Boss has died! Char wins!\n"
          ]
        }
      ]
    }
  ]
}